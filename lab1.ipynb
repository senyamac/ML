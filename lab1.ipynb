{
 "cells": [
  {
   "cell_type": "markdown",
   "metadata": {},
   "source": [
    "# Lab 1!"
   ]
  },
  {
   "cell_type": "code",
   "execution_count": 1,
   "metadata": {},
   "outputs": [],
   "source": [
    "import numpy as np\n",
    "import matplotlib.pyplot as plt\n",
    "import pandas as pd\n",
    "%matplotlib inline"
   ]
  },
  {
   "cell_type": "code",
   "execution_count": 2,
   "metadata": {},
   "outputs": [],
   "source": [
    "#url = 'https://archive.ics.uci.edu/ml/machine-learning-databases/autos/imports-85.data'\n",
    "url = '/Users/maackiarsenij/imports-85.data'\n",
    "data = pd.read_csv(url, sep = ',', engine='python')\n",
    "data.columns = ['symboling', 'normalized_losses', 'make', 'fuel-type', 'aspiration', 'num_of_doors', 'body-style', 'drive-wheels', 'engine-location', 'wheel-base', 'length', 'width', 'height', 'curb-weight', 'engine-type', 'num-of-cylinders', 'engine-size', 'fuel-system','bore', 'stroke', 'compression-ratio', 'horsepower', 'peak_rpm', 'city-mpg', 'highway-mpg', 'price']"
   ]
  },
  {
   "cell_type": "code",
   "execution_count": 3,
   "metadata": {},
   "outputs": [
    {
     "data": {
      "text/plain": [
       "pandas.core.frame.DataFrame"
      ]
     },
     "execution_count": 3,
     "metadata": {},
     "output_type": "execute_result"
    }
   ],
   "source": [
    "type(data)"
   ]
  },
  {
   "cell_type": "code",
   "execution_count": 4,
   "metadata": {},
   "outputs": [
    {
     "name": "stdout",
     "output_type": "stream",
     "text": [
      "(204, 26)\n",
      "Index(['symboling', 'normalized_losses', 'make', 'fuel-type', 'aspiration',\n",
      "       'num_of_doors', 'body-style', 'drive-wheels', 'engine-location',\n",
      "       'wheel-base', 'length', 'width', 'height', 'curb-weight', 'engine-type',\n",
      "       'num-of-cylinders', 'engine-size', 'fuel-system', 'bore', 'stroke',\n",
      "       'compression-ratio', 'horsepower', 'peak_rpm', 'city-mpg',\n",
      "       'highway-mpg', 'price'],\n",
      "      dtype='object')\n"
     ]
    }
   ],
   "source": [
    "print(data.shape)\n",
    "print(data.columns)"
   ]
  },
  {
   "cell_type": "code",
   "execution_count": 5,
   "metadata": {},
   "outputs": [
    {
     "data": {
      "text/html": [
       "<div>\n",
       "<style scoped>\n",
       "    .dataframe tbody tr th:only-of-type {\n",
       "        vertical-align: middle;\n",
       "    }\n",
       "\n",
       "    .dataframe tbody tr th {\n",
       "        vertical-align: top;\n",
       "    }\n",
       "\n",
       "    .dataframe thead th {\n",
       "        text-align: right;\n",
       "    }\n",
       "</style>\n",
       "<table border=\"1\" class=\"dataframe\">\n",
       "  <thead>\n",
       "    <tr style=\"text-align: right;\">\n",
       "      <th></th>\n",
       "      <th>symboling</th>\n",
       "      <th>normalized_losses</th>\n",
       "      <th>make</th>\n",
       "      <th>fuel-type</th>\n",
       "      <th>aspiration</th>\n",
       "      <th>num_of_doors</th>\n",
       "      <th>body-style</th>\n",
       "      <th>drive-wheels</th>\n",
       "      <th>engine-location</th>\n",
       "      <th>wheel-base</th>\n",
       "      <th>...</th>\n",
       "      <th>engine-size</th>\n",
       "      <th>fuel-system</th>\n",
       "      <th>bore</th>\n",
       "      <th>stroke</th>\n",
       "      <th>compression-ratio</th>\n",
       "      <th>horsepower</th>\n",
       "      <th>peak_rpm</th>\n",
       "      <th>city-mpg</th>\n",
       "      <th>highway-mpg</th>\n",
       "      <th>price</th>\n",
       "    </tr>\n",
       "  </thead>\n",
       "  <tbody>\n",
       "    <tr>\n",
       "      <td>0</td>\n",
       "      <td>3</td>\n",
       "      <td>?</td>\n",
       "      <td>alfa-romero</td>\n",
       "      <td>gas</td>\n",
       "      <td>std</td>\n",
       "      <td>two</td>\n",
       "      <td>convertible</td>\n",
       "      <td>rwd</td>\n",
       "      <td>front</td>\n",
       "      <td>88.6</td>\n",
       "      <td>...</td>\n",
       "      <td>130</td>\n",
       "      <td>mpfi</td>\n",
       "      <td>3.47</td>\n",
       "      <td>2.68</td>\n",
       "      <td>9.0</td>\n",
       "      <td>111</td>\n",
       "      <td>5000</td>\n",
       "      <td>21</td>\n",
       "      <td>27</td>\n",
       "      <td>16500</td>\n",
       "    </tr>\n",
       "    <tr>\n",
       "      <td>1</td>\n",
       "      <td>1</td>\n",
       "      <td>?</td>\n",
       "      <td>alfa-romero</td>\n",
       "      <td>gas</td>\n",
       "      <td>std</td>\n",
       "      <td>two</td>\n",
       "      <td>hatchback</td>\n",
       "      <td>rwd</td>\n",
       "      <td>front</td>\n",
       "      <td>94.5</td>\n",
       "      <td>...</td>\n",
       "      <td>152</td>\n",
       "      <td>mpfi</td>\n",
       "      <td>2.68</td>\n",
       "      <td>3.47</td>\n",
       "      <td>9.0</td>\n",
       "      <td>154</td>\n",
       "      <td>5000</td>\n",
       "      <td>19</td>\n",
       "      <td>26</td>\n",
       "      <td>16500</td>\n",
       "    </tr>\n",
       "    <tr>\n",
       "      <td>2</td>\n",
       "      <td>2</td>\n",
       "      <td>164</td>\n",
       "      <td>audi</td>\n",
       "      <td>gas</td>\n",
       "      <td>std</td>\n",
       "      <td>four</td>\n",
       "      <td>sedan</td>\n",
       "      <td>fwd</td>\n",
       "      <td>front</td>\n",
       "      <td>99.8</td>\n",
       "      <td>...</td>\n",
       "      <td>109</td>\n",
       "      <td>mpfi</td>\n",
       "      <td>3.19</td>\n",
       "      <td>3.40</td>\n",
       "      <td>10.0</td>\n",
       "      <td>102</td>\n",
       "      <td>5500</td>\n",
       "      <td>24</td>\n",
       "      <td>30</td>\n",
       "      <td>13950</td>\n",
       "    </tr>\n",
       "    <tr>\n",
       "      <td>3</td>\n",
       "      <td>2</td>\n",
       "      <td>164</td>\n",
       "      <td>audi</td>\n",
       "      <td>gas</td>\n",
       "      <td>std</td>\n",
       "      <td>four</td>\n",
       "      <td>sedan</td>\n",
       "      <td>4wd</td>\n",
       "      <td>front</td>\n",
       "      <td>99.4</td>\n",
       "      <td>...</td>\n",
       "      <td>136</td>\n",
       "      <td>mpfi</td>\n",
       "      <td>3.19</td>\n",
       "      <td>3.40</td>\n",
       "      <td>8.0</td>\n",
       "      <td>115</td>\n",
       "      <td>5500</td>\n",
       "      <td>18</td>\n",
       "      <td>22</td>\n",
       "      <td>17450</td>\n",
       "    </tr>\n",
       "    <tr>\n",
       "      <td>4</td>\n",
       "      <td>2</td>\n",
       "      <td>?</td>\n",
       "      <td>audi</td>\n",
       "      <td>gas</td>\n",
       "      <td>std</td>\n",
       "      <td>two</td>\n",
       "      <td>sedan</td>\n",
       "      <td>fwd</td>\n",
       "      <td>front</td>\n",
       "      <td>99.8</td>\n",
       "      <td>...</td>\n",
       "      <td>136</td>\n",
       "      <td>mpfi</td>\n",
       "      <td>3.19</td>\n",
       "      <td>3.40</td>\n",
       "      <td>8.5</td>\n",
       "      <td>110</td>\n",
       "      <td>5500</td>\n",
       "      <td>19</td>\n",
       "      <td>25</td>\n",
       "      <td>15250</td>\n",
       "    </tr>\n",
       "    <tr>\n",
       "      <td>...</td>\n",
       "      <td>...</td>\n",
       "      <td>...</td>\n",
       "      <td>...</td>\n",
       "      <td>...</td>\n",
       "      <td>...</td>\n",
       "      <td>...</td>\n",
       "      <td>...</td>\n",
       "      <td>...</td>\n",
       "      <td>...</td>\n",
       "      <td>...</td>\n",
       "      <td>...</td>\n",
       "      <td>...</td>\n",
       "      <td>...</td>\n",
       "      <td>...</td>\n",
       "      <td>...</td>\n",
       "      <td>...</td>\n",
       "      <td>...</td>\n",
       "      <td>...</td>\n",
       "      <td>...</td>\n",
       "      <td>...</td>\n",
       "      <td>...</td>\n",
       "    </tr>\n",
       "    <tr>\n",
       "      <td>199</td>\n",
       "      <td>-1</td>\n",
       "      <td>95</td>\n",
       "      <td>volvo</td>\n",
       "      <td>gas</td>\n",
       "      <td>std</td>\n",
       "      <td>four</td>\n",
       "      <td>sedan</td>\n",
       "      <td>rwd</td>\n",
       "      <td>front</td>\n",
       "      <td>109.1</td>\n",
       "      <td>...</td>\n",
       "      <td>141</td>\n",
       "      <td>mpfi</td>\n",
       "      <td>3.78</td>\n",
       "      <td>3.15</td>\n",
       "      <td>9.5</td>\n",
       "      <td>114</td>\n",
       "      <td>5400</td>\n",
       "      <td>23</td>\n",
       "      <td>28</td>\n",
       "      <td>16845</td>\n",
       "    </tr>\n",
       "    <tr>\n",
       "      <td>200</td>\n",
       "      <td>-1</td>\n",
       "      <td>95</td>\n",
       "      <td>volvo</td>\n",
       "      <td>gas</td>\n",
       "      <td>turbo</td>\n",
       "      <td>four</td>\n",
       "      <td>sedan</td>\n",
       "      <td>rwd</td>\n",
       "      <td>front</td>\n",
       "      <td>109.1</td>\n",
       "      <td>...</td>\n",
       "      <td>141</td>\n",
       "      <td>mpfi</td>\n",
       "      <td>3.78</td>\n",
       "      <td>3.15</td>\n",
       "      <td>8.7</td>\n",
       "      <td>160</td>\n",
       "      <td>5300</td>\n",
       "      <td>19</td>\n",
       "      <td>25</td>\n",
       "      <td>19045</td>\n",
       "    </tr>\n",
       "    <tr>\n",
       "      <td>201</td>\n",
       "      <td>-1</td>\n",
       "      <td>95</td>\n",
       "      <td>volvo</td>\n",
       "      <td>gas</td>\n",
       "      <td>std</td>\n",
       "      <td>four</td>\n",
       "      <td>sedan</td>\n",
       "      <td>rwd</td>\n",
       "      <td>front</td>\n",
       "      <td>109.1</td>\n",
       "      <td>...</td>\n",
       "      <td>173</td>\n",
       "      <td>mpfi</td>\n",
       "      <td>3.58</td>\n",
       "      <td>2.87</td>\n",
       "      <td>8.8</td>\n",
       "      <td>134</td>\n",
       "      <td>5500</td>\n",
       "      <td>18</td>\n",
       "      <td>23</td>\n",
       "      <td>21485</td>\n",
       "    </tr>\n",
       "    <tr>\n",
       "      <td>202</td>\n",
       "      <td>-1</td>\n",
       "      <td>95</td>\n",
       "      <td>volvo</td>\n",
       "      <td>diesel</td>\n",
       "      <td>turbo</td>\n",
       "      <td>four</td>\n",
       "      <td>sedan</td>\n",
       "      <td>rwd</td>\n",
       "      <td>front</td>\n",
       "      <td>109.1</td>\n",
       "      <td>...</td>\n",
       "      <td>145</td>\n",
       "      <td>idi</td>\n",
       "      <td>3.01</td>\n",
       "      <td>3.40</td>\n",
       "      <td>23.0</td>\n",
       "      <td>106</td>\n",
       "      <td>4800</td>\n",
       "      <td>26</td>\n",
       "      <td>27</td>\n",
       "      <td>22470</td>\n",
       "    </tr>\n",
       "    <tr>\n",
       "      <td>203</td>\n",
       "      <td>-1</td>\n",
       "      <td>95</td>\n",
       "      <td>volvo</td>\n",
       "      <td>gas</td>\n",
       "      <td>turbo</td>\n",
       "      <td>four</td>\n",
       "      <td>sedan</td>\n",
       "      <td>rwd</td>\n",
       "      <td>front</td>\n",
       "      <td>109.1</td>\n",
       "      <td>...</td>\n",
       "      <td>141</td>\n",
       "      <td>mpfi</td>\n",
       "      <td>3.78</td>\n",
       "      <td>3.15</td>\n",
       "      <td>9.5</td>\n",
       "      <td>114</td>\n",
       "      <td>5400</td>\n",
       "      <td>19</td>\n",
       "      <td>25</td>\n",
       "      <td>22625</td>\n",
       "    </tr>\n",
       "  </tbody>\n",
       "</table>\n",
       "<p>204 rows × 26 columns</p>\n",
       "</div>"
      ],
      "text/plain": [
       "     symboling normalized_losses         make fuel-type aspiration  \\\n",
       "0            3                 ?  alfa-romero       gas        std   \n",
       "1            1                 ?  alfa-romero       gas        std   \n",
       "2            2               164         audi       gas        std   \n",
       "3            2               164         audi       gas        std   \n",
       "4            2                 ?         audi       gas        std   \n",
       "..         ...               ...          ...       ...        ...   \n",
       "199         -1                95        volvo       gas        std   \n",
       "200         -1                95        volvo       gas      turbo   \n",
       "201         -1                95        volvo       gas        std   \n",
       "202         -1                95        volvo    diesel      turbo   \n",
       "203         -1                95        volvo       gas      turbo   \n",
       "\n",
       "    num_of_doors   body-style drive-wheels engine-location  wheel-base  ...  \\\n",
       "0            two  convertible          rwd           front        88.6  ...   \n",
       "1            two    hatchback          rwd           front        94.5  ...   \n",
       "2           four        sedan          fwd           front        99.8  ...   \n",
       "3           four        sedan          4wd           front        99.4  ...   \n",
       "4            two        sedan          fwd           front        99.8  ...   \n",
       "..           ...          ...          ...             ...         ...  ...   \n",
       "199         four        sedan          rwd           front       109.1  ...   \n",
       "200         four        sedan          rwd           front       109.1  ...   \n",
       "201         four        sedan          rwd           front       109.1  ...   \n",
       "202         four        sedan          rwd           front       109.1  ...   \n",
       "203         four        sedan          rwd           front       109.1  ...   \n",
       "\n",
       "     engine-size  fuel-system  bore  stroke compression-ratio horsepower  \\\n",
       "0            130         mpfi  3.47    2.68               9.0        111   \n",
       "1            152         mpfi  2.68    3.47               9.0        154   \n",
       "2            109         mpfi  3.19    3.40              10.0        102   \n",
       "3            136         mpfi  3.19    3.40               8.0        115   \n",
       "4            136         mpfi  3.19    3.40               8.5        110   \n",
       "..           ...          ...   ...     ...               ...        ...   \n",
       "199          141         mpfi  3.78    3.15               9.5        114   \n",
       "200          141         mpfi  3.78    3.15               8.7        160   \n",
       "201          173         mpfi  3.58    2.87               8.8        134   \n",
       "202          145          idi  3.01    3.40              23.0        106   \n",
       "203          141         mpfi  3.78    3.15               9.5        114   \n",
       "\n",
       "     peak_rpm city-mpg highway-mpg  price  \n",
       "0        5000       21          27  16500  \n",
       "1        5000       19          26  16500  \n",
       "2        5500       24          30  13950  \n",
       "3        5500       18          22  17450  \n",
       "4        5500       19          25  15250  \n",
       "..        ...      ...         ...    ...  \n",
       "199      5400       23          28  16845  \n",
       "200      5300       19          25  19045  \n",
       "201      5500       18          23  21485  \n",
       "202      4800       26          27  22470  \n",
       "203      5400       19          25  22625  \n",
       "\n",
       "[204 rows x 26 columns]"
      ]
     },
     "execution_count": 5,
     "metadata": {},
     "output_type": "execute_result"
    }
   ],
   "source": [
    "data"
   ]
  },
  {
   "cell_type": "markdown",
   "metadata": {},
   "source": [
    "\n",
    "Attribute Information:\n",
    "\n",
    "1. symboling: -3, -2, -1, 0, 1, 2, 3. \n",
    "2. normalized-losses: continuous from 65 to 256. \n",
    "3. make: \n",
    "alfa-romero, audi, bmw, chevrolet, dodge, honda, \n",
    "isuzu, jaguar, mazda, mercedes-benz, mercury, \n",
    "mitsubishi, nissan, peugot, plymouth, porsche, \n",
    "renault, saab, subaru, toyota, volkswagen, volvo \n",
    "4. fuel-type: diesel, gas. \n",
    "5. aspiration: std, turbo. \n",
    "6. num-of-doors: four, two. \n",
    "7. body-style: hardtop, wagon, sedan, hatchback, convertible. \n",
    "8. drive-wheels: 4wd, fwd, rwd. \n",
    "9. engine-location: front, rear. \n",
    "10. wheel-base: continuous from 86.6 120.9. \n",
    "11. length: continuous from 141.1 to 208.1. \n",
    "12. width: continuous from 60.3 to 72.3. \n",
    "13. height: continuous from 47.8 to 59.8. \n",
    "14. curb-weight: continuous from 1488 to 4066. \n",
    "15. engine-type: dohc, dohcv, l, ohc, ohcf, ohcv, rotor. \n",
    "16. num-of-cylinders: eight, five, four, six, three, twelve, two. \n",
    "17. engine-size: continuous from 61 to 326. \n",
    "18. fuel-system: 1bbl, 2bbl, 4bbl, idi, mfi, mpfi, spdi, spfi. \n",
    "19. bore: continuous from 2.54 to 3.94. \n",
    "20. stroke: continuous from 2.07 to 4.17. \n",
    "21. compression-ratio: continuous from 7 to 23. \n",
    "22. horsepower: continuous from 48 to 288. \n",
    "23. peak-rpm: continuous from 4150 to 6600. \n",
    "24. city-mpg: continuous from 13 to 49. \n",
    "25. highway-mpg: continuous from 16 to 54. \n",
    "26. price: continuous from 5118 to 45400."
   ]
  },
  {
   "cell_type": "code",
   "execution_count": 6,
   "metadata": {
    "scrolled": true
   },
   "outputs": [
    {
     "name": "stdout",
     "output_type": "stream",
     "text": [
      "     symboling normalized_losses         make fuel-type aspiration  \\\n",
      "0            3                 ?  alfa-romero       gas        std   \n",
      "1            1                 ?  alfa-romero       gas        std   \n",
      "2            2               164         audi       gas        std   \n",
      "3            2               164         audi       gas        std   \n",
      "4            2                 ?         audi       gas        std   \n",
      "..         ...               ...          ...       ...        ...   \n",
      "199         -1                95        volvo       gas        std   \n",
      "200         -1                95        volvo       gas      turbo   \n",
      "201         -1                95        volvo       gas        std   \n",
      "202         -1                95        volvo    diesel      turbo   \n",
      "203         -1                95        volvo       gas      turbo   \n",
      "\n",
      "    num_of_doors   body-style drive-wheels engine-location  wheel-base  ...  \\\n",
      "0            two  convertible          rwd           front        88.6  ...   \n",
      "1            two    hatchback          rwd           front        94.5  ...   \n",
      "2           four        sedan          fwd           front        99.8  ...   \n",
      "3           four        sedan          4wd           front        99.4  ...   \n",
      "4            two        sedan          fwd           front        99.8  ...   \n",
      "..           ...          ...          ...             ...         ...  ...   \n",
      "199         four        sedan          rwd           front       109.1  ...   \n",
      "200         four        sedan          rwd           front       109.1  ...   \n",
      "201         four        sedan          rwd           front       109.1  ...   \n",
      "202         four        sedan          rwd           front       109.1  ...   \n",
      "203         four        sedan          rwd           front       109.1  ...   \n",
      "\n",
      "     engine-size  fuel-system  bore  stroke compression-ratio horsepower  \\\n",
      "0            130         mpfi  3.47    2.68               9.0        111   \n",
      "1            152         mpfi  2.68    3.47               9.0        154   \n",
      "2            109         mpfi  3.19    3.40              10.0        102   \n",
      "3            136         mpfi  3.19    3.40               8.0        115   \n",
      "4            136         mpfi  3.19    3.40               8.5        110   \n",
      "..           ...          ...   ...     ...               ...        ...   \n",
      "199          141         mpfi  3.78    3.15               9.5        114   \n",
      "200          141         mpfi  3.78    3.15               8.7        160   \n",
      "201          173         mpfi  3.58    2.87               8.8        134   \n",
      "202          145          idi  3.01    3.40              23.0        106   \n",
      "203          141         mpfi  3.78    3.15               9.5        114   \n",
      "\n",
      "     peak_rpm city-mpg highway-mpg  price  \n",
      "0        5000       21          27  16500  \n",
      "1        5000       19          26  16500  \n",
      "2        5500       24          30  13950  \n",
      "3        5500       18          22  17450  \n",
      "4        5500       19          25  15250  \n",
      "..        ...      ...         ...    ...  \n",
      "199      5400       23          28  16845  \n",
      "200      5300       19          25  19045  \n",
      "201      5500       18          23  21485  \n",
      "202      4800       26          27  22470  \n",
      "203      5400       19          25  22625  \n",
      "\n",
      "[204 rows x 26 columns]\n"
     ]
    }
   ],
   "source": [
    "print(data)"
   ]
  },
  {
   "cell_type": "code",
   "execution_count": 7,
   "metadata": {},
   "outputs": [
    {
     "data": {
      "text/html": [
       "<div>\n",
       "<style scoped>\n",
       "    .dataframe tbody tr th:only-of-type {\n",
       "        vertical-align: middle;\n",
       "    }\n",
       "\n",
       "    .dataframe tbody tr th {\n",
       "        vertical-align: top;\n",
       "    }\n",
       "\n",
       "    .dataframe thead th {\n",
       "        text-align: right;\n",
       "    }\n",
       "</style>\n",
       "<table border=\"1\" class=\"dataframe\">\n",
       "  <thead>\n",
       "    <tr style=\"text-align: right;\">\n",
       "      <th></th>\n",
       "      <th>symboling</th>\n",
       "      <th>normalized_losses</th>\n",
       "      <th>make</th>\n",
       "      <th>fuel-type</th>\n",
       "      <th>aspiration</th>\n",
       "      <th>num_of_doors</th>\n",
       "      <th>body-style</th>\n",
       "      <th>drive-wheels</th>\n",
       "      <th>engine-location</th>\n",
       "      <th>wheel-base</th>\n",
       "      <th>...</th>\n",
       "      <th>engine-size</th>\n",
       "      <th>fuel-system</th>\n",
       "      <th>bore</th>\n",
       "      <th>stroke</th>\n",
       "      <th>compression-ratio</th>\n",
       "      <th>horsepower</th>\n",
       "      <th>peak_rpm</th>\n",
       "      <th>city-mpg</th>\n",
       "      <th>highway-mpg</th>\n",
       "      <th>price</th>\n",
       "    </tr>\n",
       "  </thead>\n",
       "  <tbody>\n",
       "    <tr>\n",
       "      <td>0</td>\n",
       "      <td>3</td>\n",
       "      <td>?</td>\n",
       "      <td>alfa-romero</td>\n",
       "      <td>gas</td>\n",
       "      <td>std</td>\n",
       "      <td>two</td>\n",
       "      <td>convertible</td>\n",
       "      <td>rwd</td>\n",
       "      <td>front</td>\n",
       "      <td>88.6</td>\n",
       "      <td>...</td>\n",
       "      <td>130</td>\n",
       "      <td>mpfi</td>\n",
       "      <td>3.47</td>\n",
       "      <td>2.68</td>\n",
       "      <td>9.0</td>\n",
       "      <td>111</td>\n",
       "      <td>5000</td>\n",
       "      <td>21</td>\n",
       "      <td>27</td>\n",
       "      <td>16500</td>\n",
       "    </tr>\n",
       "    <tr>\n",
       "      <td>1</td>\n",
       "      <td>1</td>\n",
       "      <td>?</td>\n",
       "      <td>alfa-romero</td>\n",
       "      <td>gas</td>\n",
       "      <td>std</td>\n",
       "      <td>two</td>\n",
       "      <td>hatchback</td>\n",
       "      <td>rwd</td>\n",
       "      <td>front</td>\n",
       "      <td>94.5</td>\n",
       "      <td>...</td>\n",
       "      <td>152</td>\n",
       "      <td>mpfi</td>\n",
       "      <td>2.68</td>\n",
       "      <td>3.47</td>\n",
       "      <td>9.0</td>\n",
       "      <td>154</td>\n",
       "      <td>5000</td>\n",
       "      <td>19</td>\n",
       "      <td>26</td>\n",
       "      <td>16500</td>\n",
       "    </tr>\n",
       "    <tr>\n",
       "      <td>2</td>\n",
       "      <td>2</td>\n",
       "      <td>164</td>\n",
       "      <td>audi</td>\n",
       "      <td>gas</td>\n",
       "      <td>std</td>\n",
       "      <td>four</td>\n",
       "      <td>sedan</td>\n",
       "      <td>fwd</td>\n",
       "      <td>front</td>\n",
       "      <td>99.8</td>\n",
       "      <td>...</td>\n",
       "      <td>109</td>\n",
       "      <td>mpfi</td>\n",
       "      <td>3.19</td>\n",
       "      <td>3.40</td>\n",
       "      <td>10.0</td>\n",
       "      <td>102</td>\n",
       "      <td>5500</td>\n",
       "      <td>24</td>\n",
       "      <td>30</td>\n",
       "      <td>13950</td>\n",
       "    </tr>\n",
       "    <tr>\n",
       "      <td>3</td>\n",
       "      <td>2</td>\n",
       "      <td>164</td>\n",
       "      <td>audi</td>\n",
       "      <td>gas</td>\n",
       "      <td>std</td>\n",
       "      <td>four</td>\n",
       "      <td>sedan</td>\n",
       "      <td>4wd</td>\n",
       "      <td>front</td>\n",
       "      <td>99.4</td>\n",
       "      <td>...</td>\n",
       "      <td>136</td>\n",
       "      <td>mpfi</td>\n",
       "      <td>3.19</td>\n",
       "      <td>3.40</td>\n",
       "      <td>8.0</td>\n",
       "      <td>115</td>\n",
       "      <td>5500</td>\n",
       "      <td>18</td>\n",
       "      <td>22</td>\n",
       "      <td>17450</td>\n",
       "    </tr>\n",
       "    <tr>\n",
       "      <td>4</td>\n",
       "      <td>2</td>\n",
       "      <td>?</td>\n",
       "      <td>audi</td>\n",
       "      <td>gas</td>\n",
       "      <td>std</td>\n",
       "      <td>two</td>\n",
       "      <td>sedan</td>\n",
       "      <td>fwd</td>\n",
       "      <td>front</td>\n",
       "      <td>99.8</td>\n",
       "      <td>...</td>\n",
       "      <td>136</td>\n",
       "      <td>mpfi</td>\n",
       "      <td>3.19</td>\n",
       "      <td>3.40</td>\n",
       "      <td>8.5</td>\n",
       "      <td>110</td>\n",
       "      <td>5500</td>\n",
       "      <td>19</td>\n",
       "      <td>25</td>\n",
       "      <td>15250</td>\n",
       "    </tr>\n",
       "  </tbody>\n",
       "</table>\n",
       "<p>5 rows × 26 columns</p>\n",
       "</div>"
      ],
      "text/plain": [
       "   symboling normalized_losses         make fuel-type aspiration num_of_doors  \\\n",
       "0          3                 ?  alfa-romero       gas        std          two   \n",
       "1          1                 ?  alfa-romero       gas        std          two   \n",
       "2          2               164         audi       gas        std         four   \n",
       "3          2               164         audi       gas        std         four   \n",
       "4          2                 ?         audi       gas        std          two   \n",
       "\n",
       "    body-style drive-wheels engine-location  wheel-base  ...  engine-size  \\\n",
       "0  convertible          rwd           front        88.6  ...          130   \n",
       "1    hatchback          rwd           front        94.5  ...          152   \n",
       "2        sedan          fwd           front        99.8  ...          109   \n",
       "3        sedan          4wd           front        99.4  ...          136   \n",
       "4        sedan          fwd           front        99.8  ...          136   \n",
       "\n",
       "   fuel-system  bore  stroke compression-ratio horsepower  peak_rpm city-mpg  \\\n",
       "0         mpfi  3.47    2.68               9.0        111      5000       21   \n",
       "1         mpfi  2.68    3.47               9.0        154      5000       19   \n",
       "2         mpfi  3.19    3.40              10.0        102      5500       24   \n",
       "3         mpfi  3.19    3.40               8.0        115      5500       18   \n",
       "4         mpfi  3.19    3.40               8.5        110      5500       19   \n",
       "\n",
       "  highway-mpg  price  \n",
       "0          27  16500  \n",
       "1          26  16500  \n",
       "2          30  13950  \n",
       "3          22  17450  \n",
       "4          25  15250  \n",
       "\n",
       "[5 rows x 26 columns]"
      ]
     },
     "execution_count": 7,
     "metadata": {},
     "output_type": "execute_result"
    }
   ],
   "source": [
    "data.head()\n"
   ]
  },
  {
   "cell_type": "code",
   "execution_count": 8,
   "metadata": {},
   "outputs": [
    {
     "data": {
      "text/html": [
       "<div>\n",
       "<style scoped>\n",
       "    .dataframe tbody tr th:only-of-type {\n",
       "        vertical-align: middle;\n",
       "    }\n",
       "\n",
       "    .dataframe tbody tr th {\n",
       "        vertical-align: top;\n",
       "    }\n",
       "\n",
       "    .dataframe thead th {\n",
       "        text-align: right;\n",
       "    }\n",
       "</style>\n",
       "<table border=\"1\" class=\"dataframe\">\n",
       "  <thead>\n",
       "    <tr style=\"text-align: right;\">\n",
       "      <th></th>\n",
       "      <th>symboling</th>\n",
       "      <th>normalized_losses</th>\n",
       "      <th>make</th>\n",
       "      <th>fuel-type</th>\n",
       "      <th>aspiration</th>\n",
       "      <th>num_of_doors</th>\n",
       "      <th>body-style</th>\n",
       "      <th>drive-wheels</th>\n",
       "      <th>engine-location</th>\n",
       "      <th>wheel-base</th>\n",
       "      <th>...</th>\n",
       "      <th>engine-size</th>\n",
       "      <th>fuel-system</th>\n",
       "      <th>bore</th>\n",
       "      <th>stroke</th>\n",
       "      <th>compression-ratio</th>\n",
       "      <th>horsepower</th>\n",
       "      <th>peak_rpm</th>\n",
       "      <th>city-mpg</th>\n",
       "      <th>highway-mpg</th>\n",
       "      <th>price</th>\n",
       "    </tr>\n",
       "  </thead>\n",
       "  <tbody>\n",
       "    <tr>\n",
       "      <td>199</td>\n",
       "      <td>-1</td>\n",
       "      <td>95</td>\n",
       "      <td>volvo</td>\n",
       "      <td>gas</td>\n",
       "      <td>std</td>\n",
       "      <td>four</td>\n",
       "      <td>sedan</td>\n",
       "      <td>rwd</td>\n",
       "      <td>front</td>\n",
       "      <td>109.1</td>\n",
       "      <td>...</td>\n",
       "      <td>141</td>\n",
       "      <td>mpfi</td>\n",
       "      <td>3.78</td>\n",
       "      <td>3.15</td>\n",
       "      <td>9.5</td>\n",
       "      <td>114</td>\n",
       "      <td>5400</td>\n",
       "      <td>23</td>\n",
       "      <td>28</td>\n",
       "      <td>16845</td>\n",
       "    </tr>\n",
       "    <tr>\n",
       "      <td>200</td>\n",
       "      <td>-1</td>\n",
       "      <td>95</td>\n",
       "      <td>volvo</td>\n",
       "      <td>gas</td>\n",
       "      <td>turbo</td>\n",
       "      <td>four</td>\n",
       "      <td>sedan</td>\n",
       "      <td>rwd</td>\n",
       "      <td>front</td>\n",
       "      <td>109.1</td>\n",
       "      <td>...</td>\n",
       "      <td>141</td>\n",
       "      <td>mpfi</td>\n",
       "      <td>3.78</td>\n",
       "      <td>3.15</td>\n",
       "      <td>8.7</td>\n",
       "      <td>160</td>\n",
       "      <td>5300</td>\n",
       "      <td>19</td>\n",
       "      <td>25</td>\n",
       "      <td>19045</td>\n",
       "    </tr>\n",
       "    <tr>\n",
       "      <td>201</td>\n",
       "      <td>-1</td>\n",
       "      <td>95</td>\n",
       "      <td>volvo</td>\n",
       "      <td>gas</td>\n",
       "      <td>std</td>\n",
       "      <td>four</td>\n",
       "      <td>sedan</td>\n",
       "      <td>rwd</td>\n",
       "      <td>front</td>\n",
       "      <td>109.1</td>\n",
       "      <td>...</td>\n",
       "      <td>173</td>\n",
       "      <td>mpfi</td>\n",
       "      <td>3.58</td>\n",
       "      <td>2.87</td>\n",
       "      <td>8.8</td>\n",
       "      <td>134</td>\n",
       "      <td>5500</td>\n",
       "      <td>18</td>\n",
       "      <td>23</td>\n",
       "      <td>21485</td>\n",
       "    </tr>\n",
       "    <tr>\n",
       "      <td>202</td>\n",
       "      <td>-1</td>\n",
       "      <td>95</td>\n",
       "      <td>volvo</td>\n",
       "      <td>diesel</td>\n",
       "      <td>turbo</td>\n",
       "      <td>four</td>\n",
       "      <td>sedan</td>\n",
       "      <td>rwd</td>\n",
       "      <td>front</td>\n",
       "      <td>109.1</td>\n",
       "      <td>...</td>\n",
       "      <td>145</td>\n",
       "      <td>idi</td>\n",
       "      <td>3.01</td>\n",
       "      <td>3.40</td>\n",
       "      <td>23.0</td>\n",
       "      <td>106</td>\n",
       "      <td>4800</td>\n",
       "      <td>26</td>\n",
       "      <td>27</td>\n",
       "      <td>22470</td>\n",
       "    </tr>\n",
       "    <tr>\n",
       "      <td>203</td>\n",
       "      <td>-1</td>\n",
       "      <td>95</td>\n",
       "      <td>volvo</td>\n",
       "      <td>gas</td>\n",
       "      <td>turbo</td>\n",
       "      <td>four</td>\n",
       "      <td>sedan</td>\n",
       "      <td>rwd</td>\n",
       "      <td>front</td>\n",
       "      <td>109.1</td>\n",
       "      <td>...</td>\n",
       "      <td>141</td>\n",
       "      <td>mpfi</td>\n",
       "      <td>3.78</td>\n",
       "      <td>3.15</td>\n",
       "      <td>9.5</td>\n",
       "      <td>114</td>\n",
       "      <td>5400</td>\n",
       "      <td>19</td>\n",
       "      <td>25</td>\n",
       "      <td>22625</td>\n",
       "    </tr>\n",
       "  </tbody>\n",
       "</table>\n",
       "<p>5 rows × 26 columns</p>\n",
       "</div>"
      ],
      "text/plain": [
       "     symboling normalized_losses   make fuel-type aspiration num_of_doors  \\\n",
       "199         -1                95  volvo       gas        std         four   \n",
       "200         -1                95  volvo       gas      turbo         four   \n",
       "201         -1                95  volvo       gas        std         four   \n",
       "202         -1                95  volvo    diesel      turbo         four   \n",
       "203         -1                95  volvo       gas      turbo         four   \n",
       "\n",
       "    body-style drive-wheels engine-location  wheel-base  ...  engine-size  \\\n",
       "199      sedan          rwd           front       109.1  ...          141   \n",
       "200      sedan          rwd           front       109.1  ...          141   \n",
       "201      sedan          rwd           front       109.1  ...          173   \n",
       "202      sedan          rwd           front       109.1  ...          145   \n",
       "203      sedan          rwd           front       109.1  ...          141   \n",
       "\n",
       "     fuel-system  bore  stroke compression-ratio horsepower  peak_rpm  \\\n",
       "199         mpfi  3.78    3.15               9.5        114      5400   \n",
       "200         mpfi  3.78    3.15               8.7        160      5300   \n",
       "201         mpfi  3.58    2.87               8.8        134      5500   \n",
       "202          idi  3.01    3.40              23.0        106      4800   \n",
       "203         mpfi  3.78    3.15               9.5        114      5400   \n",
       "\n",
       "    city-mpg highway-mpg  price  \n",
       "199       23          28  16845  \n",
       "200       19          25  19045  \n",
       "201       18          23  21485  \n",
       "202       26          27  22470  \n",
       "203       19          25  22625  \n",
       "\n",
       "[5 rows x 26 columns]"
      ]
     },
     "execution_count": 8,
     "metadata": {},
     "output_type": "execute_result"
    }
   ],
   "source": [
    "data.tail()"
   ]
  },
  {
   "cell_type": "code",
   "execution_count": 9,
   "metadata": {},
   "outputs": [
    {
     "data": {
      "text/plain": [
       "RangeIndex(start=0, stop=204, step=1)"
      ]
     },
     "execution_count": 9,
     "metadata": {},
     "output_type": "execute_result"
    }
   ],
   "source": [
    "data.index"
   ]
  },
  {
   "cell_type": "code",
   "execution_count": 10,
   "metadata": {},
   "outputs": [
    {
     "data": {
      "text/plain": [
       "'gas'"
      ]
     },
     "execution_count": 10,
     "metadata": {},
     "output_type": "execute_result"
    }
   ],
   "source": [
    "data.at[200, 'fuel-type']"
   ]
  },
  {
   "cell_type": "code",
   "execution_count": 11,
   "metadata": {},
   "outputs": [
    {
     "data": {
      "text/html": [
       "<div>\n",
       "<style scoped>\n",
       "    .dataframe tbody tr th:only-of-type {\n",
       "        vertical-align: middle;\n",
       "    }\n",
       "\n",
       "    .dataframe tbody tr th {\n",
       "        vertical-align: top;\n",
       "    }\n",
       "\n",
       "    .dataframe thead th {\n",
       "        text-align: right;\n",
       "    }\n",
       "</style>\n",
       "<table border=\"1\" class=\"dataframe\">\n",
       "  <thead>\n",
       "    <tr style=\"text-align: right;\">\n",
       "      <th></th>\n",
       "      <th>symboling</th>\n",
       "      <th>wheel-base</th>\n",
       "      <th>length</th>\n",
       "      <th>width</th>\n",
       "      <th>height</th>\n",
       "      <th>curb-weight</th>\n",
       "      <th>engine-size</th>\n",
       "      <th>compression-ratio</th>\n",
       "      <th>city-mpg</th>\n",
       "      <th>highway-mpg</th>\n",
       "    </tr>\n",
       "  </thead>\n",
       "  <tbody>\n",
       "    <tr>\n",
       "      <td>count</td>\n",
       "      <td>204.000000</td>\n",
       "      <td>204.000000</td>\n",
       "      <td>204.000000</td>\n",
       "      <td>204.000000</td>\n",
       "      <td>204.000000</td>\n",
       "      <td>204.000000</td>\n",
       "      <td>204.000000</td>\n",
       "      <td>204.000000</td>\n",
       "      <td>204.000000</td>\n",
       "      <td>204.000000</td>\n",
       "    </tr>\n",
       "    <tr>\n",
       "      <td>mean</td>\n",
       "      <td>0.823529</td>\n",
       "      <td>98.806373</td>\n",
       "      <td>174.075000</td>\n",
       "      <td>65.916667</td>\n",
       "      <td>53.749020</td>\n",
       "      <td>2555.602941</td>\n",
       "      <td>126.892157</td>\n",
       "      <td>10.148137</td>\n",
       "      <td>25.240196</td>\n",
       "      <td>30.769608</td>\n",
       "    </tr>\n",
       "    <tr>\n",
       "      <td>std</td>\n",
       "      <td>1.239035</td>\n",
       "      <td>5.994144</td>\n",
       "      <td>12.362123</td>\n",
       "      <td>2.146716</td>\n",
       "      <td>2.424901</td>\n",
       "      <td>521.960820</td>\n",
       "      <td>41.744569</td>\n",
       "      <td>3.981000</td>\n",
       "      <td>6.551513</td>\n",
       "      <td>6.898337</td>\n",
       "    </tr>\n",
       "    <tr>\n",
       "      <td>min</td>\n",
       "      <td>-2.000000</td>\n",
       "      <td>86.600000</td>\n",
       "      <td>141.100000</td>\n",
       "      <td>60.300000</td>\n",
       "      <td>47.800000</td>\n",
       "      <td>1488.000000</td>\n",
       "      <td>61.000000</td>\n",
       "      <td>7.000000</td>\n",
       "      <td>13.000000</td>\n",
       "      <td>16.000000</td>\n",
       "    </tr>\n",
       "    <tr>\n",
       "      <td>25%</td>\n",
       "      <td>0.000000</td>\n",
       "      <td>94.500000</td>\n",
       "      <td>166.300000</td>\n",
       "      <td>64.075000</td>\n",
       "      <td>52.000000</td>\n",
       "      <td>2145.000000</td>\n",
       "      <td>97.000000</td>\n",
       "      <td>8.575000</td>\n",
       "      <td>19.000000</td>\n",
       "      <td>25.000000</td>\n",
       "    </tr>\n",
       "    <tr>\n",
       "      <td>50%</td>\n",
       "      <td>1.000000</td>\n",
       "      <td>97.000000</td>\n",
       "      <td>173.200000</td>\n",
       "      <td>65.500000</td>\n",
       "      <td>54.100000</td>\n",
       "      <td>2414.000000</td>\n",
       "      <td>119.500000</td>\n",
       "      <td>9.000000</td>\n",
       "      <td>24.000000</td>\n",
       "      <td>30.000000</td>\n",
       "    </tr>\n",
       "    <tr>\n",
       "      <td>75%</td>\n",
       "      <td>2.000000</td>\n",
       "      <td>102.400000</td>\n",
       "      <td>183.200000</td>\n",
       "      <td>66.900000</td>\n",
       "      <td>55.500000</td>\n",
       "      <td>2939.250000</td>\n",
       "      <td>142.000000</td>\n",
       "      <td>9.400000</td>\n",
       "      <td>30.000000</td>\n",
       "      <td>34.500000</td>\n",
       "    </tr>\n",
       "    <tr>\n",
       "      <td>max</td>\n",
       "      <td>3.000000</td>\n",
       "      <td>120.900000</td>\n",
       "      <td>208.100000</td>\n",
       "      <td>72.300000</td>\n",
       "      <td>59.800000</td>\n",
       "      <td>4066.000000</td>\n",
       "      <td>326.000000</td>\n",
       "      <td>23.000000</td>\n",
       "      <td>49.000000</td>\n",
       "      <td>54.000000</td>\n",
       "    </tr>\n",
       "  </tbody>\n",
       "</table>\n",
       "</div>"
      ],
      "text/plain": [
       "        symboling  wheel-base      length       width      height  \\\n",
       "count  204.000000  204.000000  204.000000  204.000000  204.000000   \n",
       "mean     0.823529   98.806373  174.075000   65.916667   53.749020   \n",
       "std      1.239035    5.994144   12.362123    2.146716    2.424901   \n",
       "min     -2.000000   86.600000  141.100000   60.300000   47.800000   \n",
       "25%      0.000000   94.500000  166.300000   64.075000   52.000000   \n",
       "50%      1.000000   97.000000  173.200000   65.500000   54.100000   \n",
       "75%      2.000000  102.400000  183.200000   66.900000   55.500000   \n",
       "max      3.000000  120.900000  208.100000   72.300000   59.800000   \n",
       "\n",
       "       curb-weight  engine-size  compression-ratio    city-mpg  highway-mpg  \n",
       "count   204.000000   204.000000         204.000000  204.000000   204.000000  \n",
       "mean   2555.602941   126.892157          10.148137   25.240196    30.769608  \n",
       "std     521.960820    41.744569           3.981000    6.551513     6.898337  \n",
       "min    1488.000000    61.000000           7.000000   13.000000    16.000000  \n",
       "25%    2145.000000    97.000000           8.575000   19.000000    25.000000  \n",
       "50%    2414.000000   119.500000           9.000000   24.000000    30.000000  \n",
       "75%    2939.250000   142.000000           9.400000   30.000000    34.500000  \n",
       "max    4066.000000   326.000000          23.000000   49.000000    54.000000  "
      ]
     },
     "execution_count": 11,
     "metadata": {},
     "output_type": "execute_result"
    }
   ],
   "source": [
    "data.describe()"
   ]
  },
  {
   "cell_type": "code",
   "execution_count": 12,
   "metadata": {},
   "outputs": [
    {
     "data": {
      "image/png": "[encoded data removed]",
      "text/plain": [
       "<Figure size 720x720 with 100 Axes>"
      ]
     },
     "metadata": {
      "needs_background": "light"
     },
     "output_type": "display_data"
    }
   ],
   "source": [
    "from pandas.plotting import scatter_matrix\n",
    "scatter_matrix(data, alpha = .01, figsize = (10, 10))\n",
    "pass"
   ]
  },
  {
   "cell_type": "code",
   "execution_count": 13,
   "metadata": {},
   "outputs": [
    {
     "data": {
      "text/html": [
       "<div>\n",
       "<style scoped>\n",
       "    .dataframe tbody tr th:only-of-type {\n",
       "        vertical-align: middle;\n",
       "    }\n",
       "\n",
       "    .dataframe tbody tr th {\n",
       "        vertical-align: top;\n",
       "    }\n",
       "\n",
       "    .dataframe thead th {\n",
       "        text-align: right;\n",
       "    }\n",
       "</style>\n",
       "<table border=\"1\" class=\"dataframe\">\n",
       "  <thead>\n",
       "    <tr style=\"text-align: right;\">\n",
       "      <th></th>\n",
       "      <th>symboling</th>\n",
       "      <th>wheel-base</th>\n",
       "      <th>length</th>\n",
       "      <th>width</th>\n",
       "      <th>height</th>\n",
       "      <th>curb-weight</th>\n",
       "      <th>engine-size</th>\n",
       "      <th>compression-ratio</th>\n",
       "      <th>city-mpg</th>\n",
       "      <th>highway-mpg</th>\n",
       "    </tr>\n",
       "  </thead>\n",
       "  <tbody>\n",
       "    <tr>\n",
       "      <td>symboling</td>\n",
       "      <td>1.000000</td>\n",
       "      <td>-0.525095</td>\n",
       "      <td>-0.356792</td>\n",
       "      <td>-0.227799</td>\n",
       "      <td>-0.533078</td>\n",
       "      <td>-0.229281</td>\n",
       "      <td>-0.107229</td>\n",
       "      <td>-0.177413</td>\n",
       "      <td>-0.030557</td>\n",
       "      <td>0.039598</td>\n",
       "    </tr>\n",
       "    <tr>\n",
       "      <td>wheel-base</td>\n",
       "      <td>-0.525095</td>\n",
       "      <td>1.000000</td>\n",
       "      <td>0.877612</td>\n",
       "      <td>0.795115</td>\n",
       "      <td>0.582603</td>\n",
       "      <td>0.781763</td>\n",
       "      <td>0.573989</td>\n",
       "      <td>0.249199</td>\n",
       "      <td>-0.479633</td>\n",
       "      <td>-0.552897</td>\n",
       "    </tr>\n",
       "    <tr>\n",
       "      <td>length</td>\n",
       "      <td>-0.356792</td>\n",
       "      <td>0.877612</td>\n",
       "      <td>1.000000</td>\n",
       "      <td>0.841199</td>\n",
       "      <td>0.491969</td>\n",
       "      <td>0.878090</td>\n",
       "      <td>0.683830</td>\n",
       "      <td>0.157913</td>\n",
       "      <td>-0.673251</td>\n",
       "      <td>-0.706635</td>\n",
       "    </tr>\n",
       "    <tr>\n",
       "      <td>width</td>\n",
       "      <td>-0.227799</td>\n",
       "      <td>0.795115</td>\n",
       "      <td>0.841199</td>\n",
       "      <td>1.000000</td>\n",
       "      <td>0.274075</td>\n",
       "      <td>0.868493</td>\n",
       "      <td>0.737042</td>\n",
       "      <td>0.180287</td>\n",
       "      <td>-0.647177</td>\n",
       "      <td>-0.681169</td>\n",
       "    </tr>\n",
       "    <tr>\n",
       "      <td>height</td>\n",
       "      <td>-0.533078</td>\n",
       "      <td>0.582603</td>\n",
       "      <td>0.491969</td>\n",
       "      <td>0.274075</td>\n",
       "      <td>1.000000</td>\n",
       "      <td>0.298429</td>\n",
       "      <td>0.068577</td>\n",
       "      <td>0.261036</td>\n",
       "      <td>-0.055659</td>\n",
       "      <td>-0.113995</td>\n",
       "    </tr>\n",
       "    <tr>\n",
       "      <td>curb-weight</td>\n",
       "      <td>-0.229281</td>\n",
       "      <td>0.781763</td>\n",
       "      <td>0.878090</td>\n",
       "      <td>0.868493</td>\n",
       "      <td>0.298429</td>\n",
       "      <td>1.000000</td>\n",
       "      <td>0.850611</td>\n",
       "      <td>0.151372</td>\n",
       "      <td>-0.758238</td>\n",
       "      <td>-0.798088</td>\n",
       "    </tr>\n",
       "    <tr>\n",
       "      <td>engine-size</td>\n",
       "      <td>-0.107229</td>\n",
       "      <td>0.573989</td>\n",
       "      <td>0.683830</td>\n",
       "      <td>0.737042</td>\n",
       "      <td>0.068577</td>\n",
       "      <td>0.850611</td>\n",
       "      <td>1.000000</td>\n",
       "      <td>0.029083</td>\n",
       "      <td>-0.654101</td>\n",
       "      <td>-0.677775</td>\n",
       "    </tr>\n",
       "    <tr>\n",
       "      <td>compression-ratio</td>\n",
       "      <td>-0.177413</td>\n",
       "      <td>0.249199</td>\n",
       "      <td>0.157913</td>\n",
       "      <td>0.180287</td>\n",
       "      <td>0.261036</td>\n",
       "      <td>0.151372</td>\n",
       "      <td>0.029083</td>\n",
       "      <td>1.000000</td>\n",
       "      <td>0.324186</td>\n",
       "      <td>0.264677</td>\n",
       "    </tr>\n",
       "    <tr>\n",
       "      <td>city-mpg</td>\n",
       "      <td>-0.030557</td>\n",
       "      <td>-0.479633</td>\n",
       "      <td>-0.673251</td>\n",
       "      <td>-0.647177</td>\n",
       "      <td>-0.055659</td>\n",
       "      <td>-0.758238</td>\n",
       "      <td>-0.654101</td>\n",
       "      <td>0.324186</td>\n",
       "      <td>1.000000</td>\n",
       "      <td>0.971311</td>\n",
       "    </tr>\n",
       "    <tr>\n",
       "      <td>highway-mpg</td>\n",
       "      <td>0.039598</td>\n",
       "      <td>-0.552897</td>\n",
       "      <td>-0.706635</td>\n",
       "      <td>-0.681169</td>\n",
       "      <td>-0.113995</td>\n",
       "      <td>-0.798088</td>\n",
       "      <td>-0.677775</td>\n",
       "      <td>0.264677</td>\n",
       "      <td>0.971311</td>\n",
       "      <td>1.000000</td>\n",
       "    </tr>\n",
       "  </tbody>\n",
       "</table>\n",
       "</div>"
      ],
      "text/plain": [
       "                   symboling  wheel-base    length     width    height  \\\n",
       "symboling           1.000000   -0.525095 -0.356792 -0.227799 -0.533078   \n",
       "wheel-base         -0.525095    1.000000  0.877612  0.795115  0.582603   \n",
       "length             -0.356792    0.877612  1.000000  0.841199  0.491969   \n",
       "width              -0.227799    0.795115  0.841199  1.000000  0.274075   \n",
       "height             -0.533078    0.582603  0.491969  0.274075  1.000000   \n",
       "curb-weight        -0.229281    0.781763  0.878090  0.868493  0.298429   \n",
       "engine-size        -0.107229    0.573989  0.683830  0.737042  0.068577   \n",
       "compression-ratio  -0.177413    0.249199  0.157913  0.180287  0.261036   \n",
       "city-mpg           -0.030557   -0.479633 -0.673251 -0.647177 -0.055659   \n",
       "highway-mpg         0.039598   -0.552897 -0.706635 -0.681169 -0.113995   \n",
       "\n",
       "                   curb-weight  engine-size  compression-ratio  city-mpg  \\\n",
       "symboling            -0.229281    -0.107229          -0.177413 -0.030557   \n",
       "wheel-base            0.781763     0.573989           0.249199 -0.479633   \n",
       "length                0.878090     0.683830           0.157913 -0.673251   \n",
       "width                 0.868493     0.737042           0.180287 -0.647177   \n",
       "height                0.298429     0.068577           0.261036 -0.055659   \n",
       "curb-weight           1.000000     0.850611           0.151372 -0.758238   \n",
       "engine-size           0.850611     1.000000           0.029083 -0.654101   \n",
       "compression-ratio     0.151372     0.029083           1.000000  0.324186   \n",
       "city-mpg             -0.758238    -0.654101           0.324186  1.000000   \n",
       "highway-mpg          -0.798088    -0.677775           0.264677  0.971311   \n",
       "\n",
       "                   highway-mpg  \n",
       "symboling             0.039598  \n",
       "wheel-base           -0.552897  \n",
       "length               -0.706635  \n",
       "width                -0.681169  \n",
       "height               -0.113995  \n",
       "curb-weight          -0.798088  \n",
       "engine-size          -0.677775  \n",
       "compression-ratio     0.264677  \n",
       "city-mpg              0.971311  \n",
       "highway-mpg           1.000000  "
      ]
     },
     "execution_count": 13,
     "metadata": {},
     "output_type": "execute_result"
    }
   ],
   "source": [
    "data.corr()"
   ]
  },
  {
   "cell_type": "code",
   "execution_count": 14,
   "metadata": {},
   "outputs": [
    {
     "data": {
      "image/png": "[encoded data removed]",
      "text/plain": [
       "<Figure size 432x288 with 1 Axes>"
      ]
     },
     "metadata": {
      "needs_background": "light"
     },
     "output_type": "display_data"
    }
   ],
   "source": [
    "plt.plot(data['city-mpg'], data['highway-mpg'], 'o', alpha = 0.05)\n",
    "plt.xlabel('city-mpg')\n",
    "plt.ylabel('highway-mpg')\n",
    "plt.title('city-mpg vs highway-mpg')\n",
    "pass"
   ]
  },
  {
   "cell_type": "code",
   "execution_count": 15,
   "metadata": {},
   "outputs": [
    {
     "data": {
      "text/plain": [
       "0       True\n",
       "1       True\n",
       "2       True\n",
       "3       True\n",
       "4       True\n",
       "       ...  \n",
       "199     True\n",
       "200     True\n",
       "201     True\n",
       "202    False\n",
       "203     True\n",
       "Name: fuel-type, Length: 204, dtype: bool"
      ]
     },
     "execution_count": 15,
     "metadata": {},
     "output_type": "execute_result"
    }
   ],
   "source": [
    "data['fuel-type'] == 'gas'"
   ]
  },
  {
   "cell_type": "code",
   "execution_count": 16,
   "metadata": {},
   "outputs": [],
   "source": [
    "# дописать 23-25 пункт"
   ]
  },
  {
   "cell_type": "code",
   "execution_count": 17,
   "metadata": {},
   "outputs": [
    {
     "data": {
      "image/png": "[encoded data removed]",
      "text/plain": [
       "<Figure size 720x432 with 1 Axes>"
      ]
     },
     "metadata": {
      "needs_background": "light"
     },
     "output_type": "display_data"
    }
   ],
   "source": [
    "plt.figure(figsize = (10, 6))\n",
    "\n",
    "plt.scatter(data[data['fuel-type'] == 'gas']['num_of_doors'],\n",
    "            data[data['fuel-type'] == 'gas']['compression-ratio'],\n",
    "            alpha = 0.5,\n",
    "            label = 'Gas cars',\n",
    "            color = 'b')\n",
    "\n",
    "plt.scatter(data[data['fuel-type'] == 'diesel']['num_of_doors'],\n",
    "            data[data['fuel-type'] == 'diesel']['compression-ratio'],\n",
    "            alpha = 0.25,\n",
    "            label = 'Diesel cars',\n",
    "            color = 'r')\n",
    "\n",
    "plt.xlabel('num_of_doors')\n",
    "plt.xticks(range(10))\n",
    "plt.xlim(0, 9)\n",
    "plt.ylabel('compression-ratio')\n",
    "plt.legend()\n",
    "plt.grid()"
   ]
  },
  {
   "cell_type": "code",
   "execution_count": 18,
   "metadata": {},
   "outputs": [
    {
     "data": {
      "text/html": [
       "<div>\n",
       "<style scoped>\n",
       "    .dataframe tbody tr th:only-of-type {\n",
       "        vertical-align: middle;\n",
       "    }\n",
       "\n",
       "    .dataframe tbody tr th {\n",
       "        vertical-align: top;\n",
       "    }\n",
       "\n",
       "    .dataframe thead th {\n",
       "        text-align: right;\n",
       "    }\n",
       "</style>\n",
       "<table border=\"1\" class=\"dataframe\">\n",
       "  <thead>\n",
       "    <tr style=\"text-align: right;\">\n",
       "      <th></th>\n",
       "      <th>normalized_losses</th>\n",
       "      <th>make</th>\n",
       "      <th>fuel-type</th>\n",
       "      <th>aspiration</th>\n",
       "      <th>num_of_doors</th>\n",
       "      <th>body-style</th>\n",
       "      <th>drive-wheels</th>\n",
       "      <th>engine-location</th>\n",
       "      <th>engine-type</th>\n",
       "      <th>num-of-cylinders</th>\n",
       "      <th>fuel-system</th>\n",
       "      <th>bore</th>\n",
       "      <th>stroke</th>\n",
       "      <th>horsepower</th>\n",
       "      <th>peak_rpm</th>\n",
       "      <th>price</th>\n",
       "    </tr>\n",
       "  </thead>\n",
       "  <tbody>\n",
       "    <tr>\n",
       "      <td>count</td>\n",
       "      <td>204</td>\n",
       "      <td>204</td>\n",
       "      <td>204</td>\n",
       "      <td>204</td>\n",
       "      <td>204</td>\n",
       "      <td>204</td>\n",
       "      <td>204</td>\n",
       "      <td>204</td>\n",
       "      <td>204</td>\n",
       "      <td>204</td>\n",
       "      <td>204</td>\n",
       "      <td>204</td>\n",
       "      <td>204</td>\n",
       "      <td>204</td>\n",
       "      <td>204</td>\n",
       "      <td>204</td>\n",
       "    </tr>\n",
       "    <tr>\n",
       "      <td>unique</td>\n",
       "      <td>52</td>\n",
       "      <td>22</td>\n",
       "      <td>2</td>\n",
       "      <td>2</td>\n",
       "      <td>3</td>\n",
       "      <td>5</td>\n",
       "      <td>3</td>\n",
       "      <td>2</td>\n",
       "      <td>7</td>\n",
       "      <td>7</td>\n",
       "      <td>8</td>\n",
       "      <td>39</td>\n",
       "      <td>37</td>\n",
       "      <td>60</td>\n",
       "      <td>24</td>\n",
       "      <td>186</td>\n",
       "    </tr>\n",
       "    <tr>\n",
       "      <td>top</td>\n",
       "      <td>?</td>\n",
       "      <td>toyota</td>\n",
       "      <td>gas</td>\n",
       "      <td>std</td>\n",
       "      <td>four</td>\n",
       "      <td>sedan</td>\n",
       "      <td>fwd</td>\n",
       "      <td>front</td>\n",
       "      <td>ohc</td>\n",
       "      <td>four</td>\n",
       "      <td>mpfi</td>\n",
       "      <td>3.62</td>\n",
       "      <td>3.40</td>\n",
       "      <td>68</td>\n",
       "      <td>5500</td>\n",
       "      <td>?</td>\n",
       "    </tr>\n",
       "    <tr>\n",
       "      <td>freq</td>\n",
       "      <td>40</td>\n",
       "      <td>32</td>\n",
       "      <td>184</td>\n",
       "      <td>167</td>\n",
       "      <td>114</td>\n",
       "      <td>96</td>\n",
       "      <td>120</td>\n",
       "      <td>201</td>\n",
       "      <td>148</td>\n",
       "      <td>158</td>\n",
       "      <td>93</td>\n",
       "      <td>23</td>\n",
       "      <td>20</td>\n",
       "      <td>19</td>\n",
       "      <td>37</td>\n",
       "      <td>4</td>\n",
       "    </tr>\n",
       "  </tbody>\n",
       "</table>\n",
       "</div>"
      ],
      "text/plain": [
       "       normalized_losses    make fuel-type aspiration num_of_doors body-style  \\\n",
       "count                204     204       204        204          204        204   \n",
       "unique                52      22         2          2            3          5   \n",
       "top                    ?  toyota       gas        std         four      sedan   \n",
       "freq                  40      32       184        167          114         96   \n",
       "\n",
       "       drive-wheels engine-location engine-type num-of-cylinders fuel-system  \\\n",
       "count           204             204         204              204         204   \n",
       "unique            3               2           7                7           8   \n",
       "top             fwd           front         ohc             four        mpfi   \n",
       "freq            120             201         148              158          93   \n",
       "\n",
       "        bore stroke horsepower peak_rpm price  \n",
       "count    204    204        204      204   204  \n",
       "unique    39     37         60       24   186  \n",
       "top     3.62   3.40         68     5500     ?  \n",
       "freq      23     20         19       37     4  "
      ]
     },
     "execution_count": 18,
     "metadata": {},
     "output_type": "execute_result"
    }
   ],
   "source": [
    "data.describe(include = ['object'])"
   ]
  },
  {
   "cell_type": "code",
   "execution_count": 19,
   "metadata": {},
   "outputs": [
    {
     "data": {
      "text/html": [
       "<div>\n",
       "<style scoped>\n",
       "    .dataframe tbody tr th:only-of-type {\n",
       "        vertical-align: middle;\n",
       "    }\n",
       "\n",
       "    .dataframe tbody tr th {\n",
       "        vertical-align: top;\n",
       "    }\n",
       "\n",
       "    .dataframe thead th {\n",
       "        text-align: right;\n",
       "    }\n",
       "</style>\n",
       "<table border=\"1\" class=\"dataframe\">\n",
       "  <thead>\n",
       "    <tr style=\"text-align: right;\">\n",
       "      <th></th>\n",
       "      <th>symboling</th>\n",
       "      <th>normalized_losses</th>\n",
       "      <th>make</th>\n",
       "      <th>fuel-type</th>\n",
       "      <th>aspiration</th>\n",
       "      <th>num_of_doors</th>\n",
       "      <th>body-style</th>\n",
       "      <th>drive-wheels</th>\n",
       "      <th>engine-location</th>\n",
       "      <th>wheel-base</th>\n",
       "      <th>...</th>\n",
       "      <th>engine-size</th>\n",
       "      <th>fuel-system</th>\n",
       "      <th>bore</th>\n",
       "      <th>stroke</th>\n",
       "      <th>compression-ratio</th>\n",
       "      <th>horsepower</th>\n",
       "      <th>peak_rpm</th>\n",
       "      <th>city-mpg</th>\n",
       "      <th>highway-mpg</th>\n",
       "      <th>price</th>\n",
       "    </tr>\n",
       "  </thead>\n",
       "  <tbody>\n",
       "    <tr>\n",
       "      <td>count</td>\n",
       "      <td>204.000000</td>\n",
       "      <td>204</td>\n",
       "      <td>204</td>\n",
       "      <td>204</td>\n",
       "      <td>204</td>\n",
       "      <td>204</td>\n",
       "      <td>204</td>\n",
       "      <td>204</td>\n",
       "      <td>204</td>\n",
       "      <td>204.000000</td>\n",
       "      <td>...</td>\n",
       "      <td>204.000000</td>\n",
       "      <td>204</td>\n",
       "      <td>204</td>\n",
       "      <td>204</td>\n",
       "      <td>204.000000</td>\n",
       "      <td>204</td>\n",
       "      <td>204</td>\n",
       "      <td>204.000000</td>\n",
       "      <td>204.000000</td>\n",
       "      <td>204</td>\n",
       "    </tr>\n",
       "    <tr>\n",
       "      <td>unique</td>\n",
       "      <td>NaN</td>\n",
       "      <td>52</td>\n",
       "      <td>22</td>\n",
       "      <td>2</td>\n",
       "      <td>2</td>\n",
       "      <td>3</td>\n",
       "      <td>5</td>\n",
       "      <td>3</td>\n",
       "      <td>2</td>\n",
       "      <td>NaN</td>\n",
       "      <td>...</td>\n",
       "      <td>NaN</td>\n",
       "      <td>8</td>\n",
       "      <td>39</td>\n",
       "      <td>37</td>\n",
       "      <td>NaN</td>\n",
       "      <td>60</td>\n",
       "      <td>24</td>\n",
       "      <td>NaN</td>\n",
       "      <td>NaN</td>\n",
       "      <td>186</td>\n",
       "    </tr>\n",
       "    <tr>\n",
       "      <td>top</td>\n",
       "      <td>NaN</td>\n",
       "      <td>?</td>\n",
       "      <td>toyota</td>\n",
       "      <td>gas</td>\n",
       "      <td>std</td>\n",
       "      <td>four</td>\n",
       "      <td>sedan</td>\n",
       "      <td>fwd</td>\n",
       "      <td>front</td>\n",
       "      <td>NaN</td>\n",
       "      <td>...</td>\n",
       "      <td>NaN</td>\n",
       "      <td>mpfi</td>\n",
       "      <td>3.62</td>\n",
       "      <td>3.40</td>\n",
       "      <td>NaN</td>\n",
       "      <td>68</td>\n",
       "      <td>5500</td>\n",
       "      <td>NaN</td>\n",
       "      <td>NaN</td>\n",
       "      <td>?</td>\n",
       "    </tr>\n",
       "    <tr>\n",
       "      <td>freq</td>\n",
       "      <td>NaN</td>\n",
       "      <td>40</td>\n",
       "      <td>32</td>\n",
       "      <td>184</td>\n",
       "      <td>167</td>\n",
       "      <td>114</td>\n",
       "      <td>96</td>\n",
       "      <td>120</td>\n",
       "      <td>201</td>\n",
       "      <td>NaN</td>\n",
       "      <td>...</td>\n",
       "      <td>NaN</td>\n",
       "      <td>93</td>\n",
       "      <td>23</td>\n",
       "      <td>20</td>\n",
       "      <td>NaN</td>\n",
       "      <td>19</td>\n",
       "      <td>37</td>\n",
       "      <td>NaN</td>\n",
       "      <td>NaN</td>\n",
       "      <td>4</td>\n",
       "    </tr>\n",
       "    <tr>\n",
       "      <td>mean</td>\n",
       "      <td>0.823529</td>\n",
       "      <td>NaN</td>\n",
       "      <td>NaN</td>\n",
       "      <td>NaN</td>\n",
       "      <td>NaN</td>\n",
       "      <td>NaN</td>\n",
       "      <td>NaN</td>\n",
       "      <td>NaN</td>\n",
       "      <td>NaN</td>\n",
       "      <td>98.806373</td>\n",
       "      <td>...</td>\n",
       "      <td>126.892157</td>\n",
       "      <td>NaN</td>\n",
       "      <td>NaN</td>\n",
       "      <td>NaN</td>\n",
       "      <td>10.148137</td>\n",
       "      <td>NaN</td>\n",
       "      <td>NaN</td>\n",
       "      <td>25.240196</td>\n",
       "      <td>30.769608</td>\n",
       "      <td>NaN</td>\n",
       "    </tr>\n",
       "    <tr>\n",
       "      <td>std</td>\n",
       "      <td>1.239035</td>\n",
       "      <td>NaN</td>\n",
       "      <td>NaN</td>\n",
       "      <td>NaN</td>\n",
       "      <td>NaN</td>\n",
       "      <td>NaN</td>\n",
       "      <td>NaN</td>\n",
       "      <td>NaN</td>\n",
       "      <td>NaN</td>\n",
       "      <td>5.994144</td>\n",
       "      <td>...</td>\n",
       "      <td>41.744569</td>\n",
       "      <td>NaN</td>\n",
       "      <td>NaN</td>\n",
       "      <td>NaN</td>\n",
       "      <td>3.981000</td>\n",
       "      <td>NaN</td>\n",
       "      <td>NaN</td>\n",
       "      <td>6.551513</td>\n",
       "      <td>6.898337</td>\n",
       "      <td>NaN</td>\n",
       "    </tr>\n",
       "    <tr>\n",
       "      <td>min</td>\n",
       "      <td>-2.000000</td>\n",
       "      <td>NaN</td>\n",
       "      <td>NaN</td>\n",
       "      <td>NaN</td>\n",
       "      <td>NaN</td>\n",
       "      <td>NaN</td>\n",
       "      <td>NaN</td>\n",
       "      <td>NaN</td>\n",
       "      <td>NaN</td>\n",
       "      <td>86.600000</td>\n",
       "      <td>...</td>\n",
       "      <td>61.000000</td>\n",
       "      <td>NaN</td>\n",
       "      <td>NaN</td>\n",
       "      <td>NaN</td>\n",
       "      <td>7.000000</td>\n",
       "      <td>NaN</td>\n",
       "      <td>NaN</td>\n",
       "      <td>13.000000</td>\n",
       "      <td>16.000000</td>\n",
       "      <td>NaN</td>\n",
       "    </tr>\n",
       "    <tr>\n",
       "      <td>25%</td>\n",
       "      <td>0.000000</td>\n",
       "      <td>NaN</td>\n",
       "      <td>NaN</td>\n",
       "      <td>NaN</td>\n",
       "      <td>NaN</td>\n",
       "      <td>NaN</td>\n",
       "      <td>NaN</td>\n",
       "      <td>NaN</td>\n",
       "      <td>NaN</td>\n",
       "      <td>94.500000</td>\n",
       "      <td>...</td>\n",
       "      <td>97.000000</td>\n",
       "      <td>NaN</td>\n",
       "      <td>NaN</td>\n",
       "      <td>NaN</td>\n",
       "      <td>8.575000</td>\n",
       "      <td>NaN</td>\n",
       "      <td>NaN</td>\n",
       "      <td>19.000000</td>\n",
       "      <td>25.000000</td>\n",
       "      <td>NaN</td>\n",
       "    </tr>\n",
       "    <tr>\n",
       "      <td>50%</td>\n",
       "      <td>1.000000</td>\n",
       "      <td>NaN</td>\n",
       "      <td>NaN</td>\n",
       "      <td>NaN</td>\n",
       "      <td>NaN</td>\n",
       "      <td>NaN</td>\n",
       "      <td>NaN</td>\n",
       "      <td>NaN</td>\n",
       "      <td>NaN</td>\n",
       "      <td>97.000000</td>\n",
       "      <td>...</td>\n",
       "      <td>119.500000</td>\n",
       "      <td>NaN</td>\n",
       "      <td>NaN</td>\n",
       "      <td>NaN</td>\n",
       "      <td>9.000000</td>\n",
       "      <td>NaN</td>\n",
       "      <td>NaN</td>\n",
       "      <td>24.000000</td>\n",
       "      <td>30.000000</td>\n",
       "      <td>NaN</td>\n",
       "    </tr>\n",
       "    <tr>\n",
       "      <td>75%</td>\n",
       "      <td>2.000000</td>\n",
       "      <td>NaN</td>\n",
       "      <td>NaN</td>\n",
       "      <td>NaN</td>\n",
       "      <td>NaN</td>\n",
       "      <td>NaN</td>\n",
       "      <td>NaN</td>\n",
       "      <td>NaN</td>\n",
       "      <td>NaN</td>\n",
       "      <td>102.400000</td>\n",
       "      <td>...</td>\n",
       "      <td>142.000000</td>\n",
       "      <td>NaN</td>\n",
       "      <td>NaN</td>\n",
       "      <td>NaN</td>\n",
       "      <td>9.400000</td>\n",
       "      <td>NaN</td>\n",
       "      <td>NaN</td>\n",
       "      <td>30.000000</td>\n",
       "      <td>34.500000</td>\n",
       "      <td>NaN</td>\n",
       "    </tr>\n",
       "    <tr>\n",
       "      <td>max</td>\n",
       "      <td>3.000000</td>\n",
       "      <td>NaN</td>\n",
       "      <td>NaN</td>\n",
       "      <td>NaN</td>\n",
       "      <td>NaN</td>\n",
       "      <td>NaN</td>\n",
       "      <td>NaN</td>\n",
       "      <td>NaN</td>\n",
       "      <td>NaN</td>\n",
       "      <td>120.900000</td>\n",
       "      <td>...</td>\n",
       "      <td>326.000000</td>\n",
       "      <td>NaN</td>\n",
       "      <td>NaN</td>\n",
       "      <td>NaN</td>\n",
       "      <td>23.000000</td>\n",
       "      <td>NaN</td>\n",
       "      <td>NaN</td>\n",
       "      <td>49.000000</td>\n",
       "      <td>54.000000</td>\n",
       "      <td>NaN</td>\n",
       "    </tr>\n",
       "  </tbody>\n",
       "</table>\n",
       "<p>11 rows × 26 columns</p>\n",
       "</div>"
      ],
      "text/plain": [
       "         symboling normalized_losses    make fuel-type aspiration  \\\n",
       "count   204.000000               204     204       204        204   \n",
       "unique         NaN                52      22         2          2   \n",
       "top            NaN                 ?  toyota       gas        std   \n",
       "freq           NaN                40      32       184        167   \n",
       "mean      0.823529               NaN     NaN       NaN        NaN   \n",
       "std       1.239035               NaN     NaN       NaN        NaN   \n",
       "min      -2.000000               NaN     NaN       NaN        NaN   \n",
       "25%       0.000000               NaN     NaN       NaN        NaN   \n",
       "50%       1.000000               NaN     NaN       NaN        NaN   \n",
       "75%       2.000000               NaN     NaN       NaN        NaN   \n",
       "max       3.000000               NaN     NaN       NaN        NaN   \n",
       "\n",
       "       num_of_doors body-style drive-wheels engine-location  wheel-base  ...  \\\n",
       "count           204        204          204             204  204.000000  ...   \n",
       "unique            3          5            3               2         NaN  ...   \n",
       "top            four      sedan          fwd           front         NaN  ...   \n",
       "freq            114         96          120             201         NaN  ...   \n",
       "mean            NaN        NaN          NaN             NaN   98.806373  ...   \n",
       "std             NaN        NaN          NaN             NaN    5.994144  ...   \n",
       "min             NaN        NaN          NaN             NaN   86.600000  ...   \n",
       "25%             NaN        NaN          NaN             NaN   94.500000  ...   \n",
       "50%             NaN        NaN          NaN             NaN   97.000000  ...   \n",
       "75%             NaN        NaN          NaN             NaN  102.400000  ...   \n",
       "max             NaN        NaN          NaN             NaN  120.900000  ...   \n",
       "\n",
       "        engine-size  fuel-system  bore  stroke compression-ratio horsepower  \\\n",
       "count    204.000000          204   204     204        204.000000        204   \n",
       "unique          NaN            8    39      37               NaN         60   \n",
       "top             NaN         mpfi  3.62    3.40               NaN         68   \n",
       "freq            NaN           93    23      20               NaN         19   \n",
       "mean     126.892157          NaN   NaN     NaN         10.148137        NaN   \n",
       "std       41.744569          NaN   NaN     NaN          3.981000        NaN   \n",
       "min       61.000000          NaN   NaN     NaN          7.000000        NaN   \n",
       "25%       97.000000          NaN   NaN     NaN          8.575000        NaN   \n",
       "50%      119.500000          NaN   NaN     NaN          9.000000        NaN   \n",
       "75%      142.000000          NaN   NaN     NaN          9.400000        NaN   \n",
       "max      326.000000          NaN   NaN     NaN         23.000000        NaN   \n",
       "\n",
       "        peak_rpm    city-mpg highway-mpg price  \n",
       "count        204  204.000000  204.000000   204  \n",
       "unique        24         NaN         NaN   186  \n",
       "top         5500         NaN         NaN     ?  \n",
       "freq          37         NaN         NaN     4  \n",
       "mean         NaN   25.240196   30.769608   NaN  \n",
       "std          NaN    6.551513    6.898337   NaN  \n",
       "min          NaN   13.000000   16.000000   NaN  \n",
       "25%          NaN   19.000000   25.000000   NaN  \n",
       "50%          NaN   24.000000   30.000000   NaN  \n",
       "75%          NaN   30.000000   34.500000   NaN  \n",
       "max          NaN   49.000000   54.000000   NaN  \n",
       "\n",
       "[11 rows x 26 columns]"
      ]
     },
     "execution_count": 19,
     "metadata": {},
     "output_type": "execute_result"
    }
   ],
   "source": [
    "data.describe(include = 'all')"
   ]
  },
  {
   "cell_type": "code",
   "execution_count": 20,
   "metadata": {},
   "outputs": [
    {
     "data": {
      "text/plain": [
       "array(['alfa-romero', 'audi', 'bmw', 'chevrolet', 'dodge', 'honda',\n",
       "       'isuzu', 'jaguar', 'mazda', 'mercedes-benz', 'mercury',\n",
       "       'mitsubishi', 'nissan', 'peugot', 'plymouth', 'porsche', 'renault',\n",
       "       'saab', 'subaru', 'toyota', 'volkswagen', 'volvo'], dtype=object)"
      ]
     },
     "execution_count": 20,
     "metadata": {},
     "output_type": "execute_result"
    }
   ],
   "source": [
    "data['make'].unique()"
   ]
  },
  {
   "cell_type": "code",
   "execution_count": 21,
   "metadata": {},
   "outputs": [
    {
     "data": {
      "text/plain": [
       "symboling               1.0\n",
       "wheel-base             97.0\n",
       "length                173.2\n",
       "width                  65.5\n",
       "height                 54.1\n",
       "curb-weight          2414.0\n",
       "engine-size           119.5\n",
       "compression-ratio       9.0\n",
       "city-mpg               24.0\n",
       "highway-mpg            30.0\n",
       "dtype: float64"
      ]
     },
     "execution_count": 21,
     "metadata": {},
     "output_type": "execute_result"
    }
   ],
   "source": [
    "data.median(axis = 0)"
   ]
  },
  {
   "cell_type": "code",
   "execution_count": 22,
   "metadata": {},
   "outputs": [],
   "source": [
    "data = data.fillna(data.median(axis = 0), axis = 0)"
   ]
  },
  {
   "cell_type": "code",
   "execution_count": 23,
   "metadata": {},
   "outputs": [],
   "source": [
    "data.loc[data.normalized_losses == \"?\", 'normalized_losses'] = None\n",
    "data.loc[data.price == \"?\", 'price'] = None\n",
    "data.loc[data.bore == \"?\", 'bore'] = None\n",
    "data.loc[data.stroke == \"?\", 'stroke'] = None\n",
    "data.loc[data.horsepower == \"?\", 'horsepower'] = None\n",
    "data.loc[data.peak_rpm == \"?\", 'peak_rpm'] = None\n",
    "data.loc[data.num_of_doors == \"?\", 'num_of_doors'] = None"
   ]
  },
  {
   "cell_type": "code",
   "execution_count": 24,
   "metadata": {},
   "outputs": [
    {
     "data": {
      "text/plain": [
       "'161'"
      ]
     },
     "execution_count": 24,
     "metadata": {},
     "output_type": "execute_result"
    }
   ],
   "source": [
    "data['normalized_losses'].describe().top"
   ]
  },
  {
   "cell_type": "code",
   "execution_count": 25,
   "metadata": {},
   "outputs": [],
   "source": [
    "data['normalized_losses'] = data['normalized_losses'].fillna('161')"
   ]
  },
  {
   "cell_type": "code",
   "execution_count": 26,
   "metadata": {},
   "outputs": [
    {
     "data": {
      "text/plain": [
       "'8495'"
      ]
     },
     "execution_count": 26,
     "metadata": {},
     "output_type": "execute_result"
    }
   ],
   "source": [
    "p_value = data['price'].describe().top\n",
    "p_value"
   ]
  },
  {
   "cell_type": "code",
   "execution_count": 27,
   "metadata": {},
   "outputs": [],
   "source": [
    "data['price'] = data['price'].fillna(p_value)"
   ]
  },
  {
   "cell_type": "code",
   "execution_count": 28,
   "metadata": {},
   "outputs": [
    {
     "data": {
      "text/plain": [
       "'3.62'"
      ]
     },
     "execution_count": 28,
     "metadata": {},
     "output_type": "execute_result"
    }
   ],
   "source": [
    "data['bore'].describe().top"
   ]
  },
  {
   "cell_type": "code",
   "execution_count": 29,
   "metadata": {},
   "outputs": [],
   "source": [
    "data['bore'] = data['bore'].fillna('3.62')"
   ]
  },
  {
   "cell_type": "code",
   "execution_count": 30,
   "metadata": {},
   "outputs": [
    {
     "data": {
      "text/plain": [
       "'3.40'"
      ]
     },
     "execution_count": 30,
     "metadata": {},
     "output_type": "execute_result"
    }
   ],
   "source": [
    "data['stroke'].describe().top"
   ]
  },
  {
   "cell_type": "code",
   "execution_count": 31,
   "metadata": {},
   "outputs": [],
   "source": [
    "data['stroke'] = data['stroke'].fillna('3.40')"
   ]
  },
  {
   "cell_type": "code",
   "execution_count": 32,
   "metadata": {},
   "outputs": [
    {
     "data": {
      "text/plain": [
       "'68'"
      ]
     },
     "execution_count": 32,
     "metadata": {},
     "output_type": "execute_result"
    }
   ],
   "source": [
    "data['horsepower'].describe().top"
   ]
  },
  {
   "cell_type": "code",
   "execution_count": 33,
   "metadata": {},
   "outputs": [],
   "source": [
    "data['horsepower'] = data['horsepower'].fillna('68')"
   ]
  },
  {
   "cell_type": "code",
   "execution_count": 34,
   "metadata": {},
   "outputs": [
    {
     "data": {
      "text/plain": [
       "'5500'"
      ]
     },
     "execution_count": 34,
     "metadata": {},
     "output_type": "execute_result"
    }
   ],
   "source": [
    "data['peak_rpm'].describe().top"
   ]
  },
  {
   "cell_type": "code",
   "execution_count": 35,
   "metadata": {},
   "outputs": [],
   "source": [
    "data['peak_rpm'] = data['peak_rpm'].fillna('5500')"
   ]
  },
  {
   "cell_type": "code",
   "execution_count": 36,
   "metadata": {},
   "outputs": [
    {
     "data": {
      "text/plain": [
       "'four'"
      ]
     },
     "execution_count": 36,
     "metadata": {},
     "output_type": "execute_result"
    }
   ],
   "source": [
    "data['num_of_doors'].describe().top"
   ]
  },
  {
   "cell_type": "code",
   "execution_count": 37,
   "metadata": {},
   "outputs": [],
   "source": [
    "data['num_of_doors'] = data['num_of_doors'].fillna('four')"
   ]
  },
  {
   "cell_type": "code",
   "execution_count": 38,
   "metadata": {},
   "outputs": [
    {
     "data": {
      "text/html": [
       "<div>\n",
       "<style scoped>\n",
       "    .dataframe tbody tr th:only-of-type {\n",
       "        vertical-align: middle;\n",
       "    }\n",
       "\n",
       "    .dataframe tbody tr th {\n",
       "        vertical-align: top;\n",
       "    }\n",
       "\n",
       "    .dataframe thead th {\n",
       "        text-align: right;\n",
       "    }\n",
       "</style>\n",
       "<table border=\"1\" class=\"dataframe\">\n",
       "  <thead>\n",
       "    <tr style=\"text-align: right;\">\n",
       "      <th></th>\n",
       "      <th>normalized_losses</th>\n",
       "      <th>make</th>\n",
       "      <th>fuel-type</th>\n",
       "      <th>aspiration</th>\n",
       "      <th>num_of_doors</th>\n",
       "      <th>body-style</th>\n",
       "      <th>drive-wheels</th>\n",
       "      <th>engine-location</th>\n",
       "      <th>engine-type</th>\n",
       "      <th>num-of-cylinders</th>\n",
       "      <th>fuel-system</th>\n",
       "      <th>bore</th>\n",
       "      <th>stroke</th>\n",
       "      <th>horsepower</th>\n",
       "      <th>peak_rpm</th>\n",
       "      <th>price</th>\n",
       "    </tr>\n",
       "  </thead>\n",
       "  <tbody>\n",
       "    <tr>\n",
       "      <td>count</td>\n",
       "      <td>204</td>\n",
       "      <td>204</td>\n",
       "      <td>204</td>\n",
       "      <td>204</td>\n",
       "      <td>204</td>\n",
       "      <td>204</td>\n",
       "      <td>204</td>\n",
       "      <td>204</td>\n",
       "      <td>204</td>\n",
       "      <td>204</td>\n",
       "      <td>204</td>\n",
       "      <td>204</td>\n",
       "      <td>204</td>\n",
       "      <td>204</td>\n",
       "      <td>204</td>\n",
       "      <td>204</td>\n",
       "    </tr>\n",
       "    <tr>\n",
       "      <td>unique</td>\n",
       "      <td>51</td>\n",
       "      <td>22</td>\n",
       "      <td>2</td>\n",
       "      <td>2</td>\n",
       "      <td>2</td>\n",
       "      <td>5</td>\n",
       "      <td>3</td>\n",
       "      <td>2</td>\n",
       "      <td>7</td>\n",
       "      <td>7</td>\n",
       "      <td>8</td>\n",
       "      <td>38</td>\n",
       "      <td>36</td>\n",
       "      <td>59</td>\n",
       "      <td>23</td>\n",
       "      <td>185</td>\n",
       "    </tr>\n",
       "    <tr>\n",
       "      <td>top</td>\n",
       "      <td>161</td>\n",
       "      <td>toyota</td>\n",
       "      <td>gas</td>\n",
       "      <td>std</td>\n",
       "      <td>four</td>\n",
       "      <td>sedan</td>\n",
       "      <td>fwd</td>\n",
       "      <td>front</td>\n",
       "      <td>ohc</td>\n",
       "      <td>four</td>\n",
       "      <td>mpfi</td>\n",
       "      <td>3.62</td>\n",
       "      <td>3.40</td>\n",
       "      <td>68</td>\n",
       "      <td>5500</td>\n",
       "      <td>8495</td>\n",
       "    </tr>\n",
       "    <tr>\n",
       "      <td>freq</td>\n",
       "      <td>51</td>\n",
       "      <td>32</td>\n",
       "      <td>184</td>\n",
       "      <td>167</td>\n",
       "      <td>116</td>\n",
       "      <td>96</td>\n",
       "      <td>120</td>\n",
       "      <td>201</td>\n",
       "      <td>148</td>\n",
       "      <td>158</td>\n",
       "      <td>93</td>\n",
       "      <td>27</td>\n",
       "      <td>24</td>\n",
       "      <td>21</td>\n",
       "      <td>39</td>\n",
       "      <td>6</td>\n",
       "    </tr>\n",
       "  </tbody>\n",
       "</table>\n",
       "</div>"
      ],
      "text/plain": [
       "       normalized_losses    make fuel-type aspiration num_of_doors body-style  \\\n",
       "count                204     204       204        204          204        204   \n",
       "unique                51      22         2          2            2          5   \n",
       "top                  161  toyota       gas        std         four      sedan   \n",
       "freq                  51      32       184        167          116         96   \n",
       "\n",
       "       drive-wheels engine-location engine-type num-of-cylinders fuel-system  \\\n",
       "count           204             204         204              204         204   \n",
       "unique            3               2           7                7           8   \n",
       "top             fwd           front         ohc             four        mpfi   \n",
       "freq            120             201         148              158          93   \n",
       "\n",
       "        bore stroke horsepower peak_rpm price  \n",
       "count    204    204        204      204   204  \n",
       "unique    38     36         59       23   185  \n",
       "top     3.62   3.40         68     5500  8495  \n",
       "freq      27     24         21       39     6  "
      ]
     },
     "execution_count": 38,
     "metadata": {},
     "output_type": "execute_result"
    }
   ],
   "source": [
    "data.describe(include = [object])"
   ]
  },
  {
   "cell_type": "code",
   "execution_count": 39,
   "metadata": {},
   "outputs": [],
   "source": [
    "#data = data.drop('normalized-losses', axis = 1)\\\n",
    "#            .drop('num-of-doors', axis = 1)\\\n",
    "#            .drop('bore',    axis = 1)\\\n",
    "#            .drop('stroke', axis = 1)\\\n",
    "#            .drop('horsepower', axis = 1)\\\n",
    "#            .drop('peak-rpm', axis = 1)\\\n",
    "#            .drop('price', axis = 1)\n",
    "\n",
    "categorical_columns = [c for c in data.columns if data[c].dtype.name == 'object']\n",
    "numerical_columns   = [c for c in data.columns if data[c].dtype.name != 'object']\n",
    "\n",
    "data_describe = data.describe(include = [object])\n",
    "for c in categorical_columns:\n",
    "    data[c] = data[c].fillna(data_describe[c]['top'])"
   ]
  },
  {
   "cell_type": "code",
   "execution_count": 40,
   "metadata": {},
   "outputs": [
    {
     "data": {
      "text/plain": [
       "['normalized_losses',\n",
       " 'make',\n",
       " 'fuel-type',\n",
       " 'aspiration',\n",
       " 'num_of_doors',\n",
       " 'body-style',\n",
       " 'drive-wheels',\n",
       " 'engine-location',\n",
       " 'engine-type',\n",
       " 'num-of-cylinders',\n",
       " 'fuel-system',\n",
       " 'bore',\n",
       " 'stroke',\n",
       " 'horsepower',\n",
       " 'peak_rpm',\n",
       " 'price']"
      ]
     },
     "execution_count": 40,
     "metadata": {},
     "output_type": "execute_result"
    }
   ],
   "source": [
    "categorical_columns"
   ]
  },
  {
   "cell_type": "code",
   "execution_count": 41,
   "metadata": {},
   "outputs": [
    {
     "data": {
      "text/plain": [
       "['symboling',\n",
       " 'wheel-base',\n",
       " 'length',\n",
       " 'width',\n",
       " 'height',\n",
       " 'curb-weight',\n",
       " 'engine-size',\n",
       " 'compression-ratio',\n",
       " 'city-mpg',\n",
       " 'highway-mpg']"
      ]
     },
     "execution_count": 41,
     "metadata": {},
     "output_type": "execute_result"
    }
   ],
   "source": [
    "numerical_columns"
   ]
  },
  {
   "cell_type": "code",
   "execution_count": 42,
   "metadata": {},
   "outputs": [
    {
     "name": "stdout",
     "output_type": "stream",
     "text": [
      "normalized_losses ['161' '164' '158' '192' '188' '121' '98' '81' '118' '148' '110' '145'\n",
      " '137' '101' '78' '106' '85' '107' '104' '113' '150' '129' '115' '93'\n",
      " '142' '153' '125' '128' '122' '103' '168' '108' '194' '231' '119' '154'\n",
      " '74' '186' '83' '102' '89' '87' '77' '91' '134' '65' '197' '90' '94'\n",
      " '256' '95']\n",
      "make ['alfa-romero' 'audi' 'bmw' 'chevrolet' 'dodge' 'honda' 'isuzu' 'jaguar'\n",
      " 'mazda' 'mercedes-benz' 'mercury' 'mitsubishi' 'nissan' 'peugot'\n",
      " 'plymouth' 'porsche' 'renault' 'saab' 'subaru' 'toyota' 'volkswagen'\n",
      " 'volvo']\n",
      "fuel-type ['gas' 'diesel']\n",
      "aspiration ['std' 'turbo']\n",
      "num_of_doors ['two' 'four']\n",
      "body-style ['convertible' 'hatchback' 'sedan' 'wagon' 'hardtop']\n",
      "drive-wheels ['rwd' 'fwd' '4wd']\n",
      "engine-location ['front' 'rear']\n",
      "engine-type ['dohc' 'ohcv' 'ohc' 'l' 'rotor' 'ohcf' 'dohcv']\n",
      "num-of-cylinders ['four' 'six' 'five' 'three' 'twelve' 'two' 'eight']\n",
      "fuel-system ['mpfi' '2bbl' 'mfi' '1bbl' 'spfi' '4bbl' 'idi' 'spdi']\n",
      "bore ['3.47' '2.68' '3.19' '3.13' '3.50' '3.31' '3.62' '2.91' '3.03' '2.97'\n",
      " '3.34' '3.60' '2.92' '3.15' '3.43' '3.63' '3.54' '3.08' '3.39' '3.76'\n",
      " '3.58' '3.46' '3.80' '3.78' '3.17' '3.35' '3.59' '2.99' '3.33' '3.70'\n",
      " '3.61' '3.94' '3.74' '2.54' '3.05' '3.27' '3.24' '3.01']\n",
      "stroke ['2.68' '3.47' '3.40' '2.80' '3.19' '3.39' '3.03' '3.11' '3.23' '3.46'\n",
      " '3.90' '3.41' '3.07' '3.58' '4.17' '2.76' '3.15' '3.16' '3.64' '3.10'\n",
      " '3.35' '3.12' '3.86' '3.29' '3.27' '3.52' '2.19' '3.21' '2.90' '2.07'\n",
      " '2.36' '2.64' '3.08' '3.50' '3.54' '2.87']\n",
      "horsepower ['111' '154' '102' '115' '110' '140' '160' '101' '121' '182' '48' '70'\n",
      " '68' '88' '145' '58' '76' '60' '86' '100' '78' '90' '176' '262' '135'\n",
      " '84' '64' '120' '72' '123' '155' '184' '175' '116' '69' '55' '97' '152'\n",
      " '200' '95' '142' '143' '207' '288' '73' '82' '94' '62' '56' '112' '92'\n",
      " '161' '156' '52' '85' '114' '162' '134' '106']\n",
      "peak_rpm ['5000' '5500' '5800' '4250' '5400' '5100' '4800' '6000' '4750' '4650'\n",
      " '4200' '4350' '4500' '5200' '4150' '5600' '5900' '5750' '5250' '4900'\n",
      " '4400' '6600' '5300']\n",
      "price ['16500' '13950' '17450' '15250' '17710' '18920' '23875' '8495' '16430'\n",
      " '16925' '20970' '21105' '24565' '30760' '41315' '36880' '5151' '6295'\n",
      " '6575' '5572' '6377' '7957' '6229' '6692' '7609' '8558' '8921' '12964'\n",
      " '6479' '6855' '5399' '6529' '7129' '7295' '7895' '9095' '8845' '10295'\n",
      " '12945' '10345' '6785' '11048' '32250' '35550' '36000' '5195' '6095'\n",
      " '6795' '6695' '7395' '10945' '11845' '13645' '15645' '10595' '10245'\n",
      " '10795' '11245' '18280' '18344' '25552' '28248' '28176' '31600' '34184'\n",
      " '35056' '40960' '45400' '16503' '5389' '6189' '6669' '7689' '9959' '8499'\n",
      " '12629' '14869' '14489' '6989' '8189' '9279' '5499' '7099' '6649' '6849'\n",
      " '7349' '7299' '7799' '7499' '7999' '8249' '8949' '9549' '13499' '14399'\n",
      " '17199' '19699' '18399' '11900' '13200' '12440' '13860' '15580' '16900'\n",
      " '16695' '17075' '16630' '17950' '18150' '12764' '22018' '32528' '34028'\n",
      " '37028' '9295' '9895' '11850' '12170' '15040' '15510' '18620' '5118'\n",
      " '7053' '7603' '7126' '7775' '9960' '9233' '11259' '7463' '10198' '8013'\n",
      " '11694' '5348' '6338' '6488' '6918' '7898' '8778' '6938' '7198' '7788'\n",
      " '7738' '8358' '9258' '8058' '8238' '9298' '9538' '8449' '9639' '9989'\n",
      " '11199' '11549' '17669' '8948' '10698' '9988' '10898' '11248' '16558'\n",
      " '15998' '15690' '15750' '7975' '7995' '8195' '9495' '9995' '11595' '9980'\n",
      " '13295' '13845' '12290' '12940' '13415' '15985' '16515' '18420' '18950'\n",
      " '16845' '19045' '21485' '22470' '22625']\n"
     ]
    }
   ],
   "source": [
    "for c in categorical_columns:\n",
    "    print(c, data[c].unique())"
   ]
  },
  {
   "cell_type": "code",
   "execution_count": 43,
   "metadata": {},
   "outputs": [
    {
     "name": "stdout",
     "output_type": "stream",
     "text": [
      "symboling [ 3  1  2  0 -1 -2]\n",
      "wheel-base [ 88.6  94.5  99.8  99.4 105.8  99.5 101.2 103.5 110.   88.4  93.7 103.3\n",
      "  95.9  86.6  96.5  94.3  96.  113.  102.   93.1  95.3  98.8 104.9 106.7\n",
      " 115.6  96.6 120.9 112.  102.7  93.   96.3  95.1  97.2 100.4  91.3  99.2\n",
      " 107.9 114.2 108.   89.5  98.4  96.1  99.1  93.3  97.   96.9  95.7 102.4\n",
      " 102.9 104.5  97.3 104.3 109.1]\n",
      "length [168.8 171.2 176.6 177.3 192.7 178.2 176.8 189.  193.8 197.  141.1 155.9\n",
      " 158.8 157.3 174.6 173.2 144.6 150.  163.4 157.1 167.5 175.4 169.1 170.7\n",
      " 172.6 199.6 191.7 159.1 166.8 169.  177.8 175.  190.9 187.5 202.6 180.3\n",
      " 208.1 199.2 178.4 173.  172.4 165.3 170.2 165.6 162.4 173.4 181.7 184.6\n",
      " 178.5 186.7 198.9 167.3 168.9 175.7 181.5 186.6 156.9 157.9 172.  173.5\n",
      " 173.6 158.7 169.7 166.3 168.7 176.2 175.6 183.5 187.8 171.7 159.3 165.7\n",
      " 180.2 183.1 188.8]\n",
      "width [64.1 65.5 66.2 66.4 66.3 71.4 67.9 64.8 66.9 70.9 60.3 63.6 63.8 64.6\n",
      " 63.9 64.  65.2 62.5 66.  61.8 69.6 70.6 64.2 65.7 66.5 66.1 70.3 71.7\n",
      " 70.5 72.  68.  64.4 65.4 68.4 68.3 65.  72.3 66.6 63.4 65.6 67.7 67.2\n",
      " 68.9 68.8]\n",
      "height [48.8 52.4 54.3 53.1 55.7 55.9 52.  53.7 56.3 53.2 50.8 50.6 59.8 50.2\n",
      " 52.6 54.5 58.3 53.3 54.1 51.  53.5 51.4 52.8 47.8 49.6 55.5 54.4 56.5\n",
      " 58.7 54.9 56.7 55.4 54.8 49.4 51.6 54.7 55.1 56.1 49.7 56.  50.5 55.2\n",
      " 52.5 53.  59.1 53.9 55.6 56.2 57.5]\n",
      "curb-weight [2548 2823 2337 2824 2507 2844 2954 3086 3053 2395 2710 2765 3055 3230\n",
      " 3380 3505 1488 1874 1909 1876 2128 1967 1989 2191 2535 2811 1713 1819\n",
      " 1837 1940 1956 2010 2024 2236 2289 2304 2372 2465 2293 2734 4066 3950\n",
      " 1890 1900 1905 1945 1950 2380 2385 2500 2410 2443 2425 2670 2700 3515\n",
      " 3750 3495 3770 3740 3685 3900 3715 2910 1918 1944 2004 2145 2370 2328\n",
      " 2833 2921 2926 2365 2405 2403 1889 2017 1938 1951 2028 1971 2037 2008\n",
      " 2324 2302 3095 3296 3060 3071 3139 3020 3197 3430 3075 3252 3285 3485\n",
      " 3130 2818 2778 2756 2800 3366 2579 2460 2658 2695 2707 2758 2808 2847\n",
      " 2050 2120 2240 2190 2340 2510 2290 2455 2420 2650 1985 2040 2015 2280\n",
      " 3110 2081 2109 2275 2094 2122 2140 2169 2204 2265 2300 2540 2536 2551\n",
      " 2679 2714 2975 2326 2480 2414 2458 2976 3016 3131 3151 2261 2209 2264\n",
      " 2212 2319 2254 2221 2661 2563 2912 3034 2935 3042 3045 3157 2952 3049\n",
      " 3012 3217 3062]\n",
      "engine-size [130 152 109 136 131 108 164 209  61  90  98 122 156  92  79 110 111 119\n",
      " 258 326  91  70  80 140 134 183 234 308 304  97 103 120 181 151 194 203\n",
      " 132 121 146 171 161 141 173 145]\n",
      "compression-ratio [ 9.   10.    8.    8.5   8.3   7.    8.8   9.5   9.6   9.41  9.4   7.6\n",
      "  9.2  10.1   9.1   8.1  11.5   8.6  22.7  22.   21.5   7.5  21.9   7.8\n",
      "  8.4  21.    8.7   9.31  9.3   7.7  22.5  23.  ]\n",
      "city-mpg [21 19 24 18 17 16 23 20 15 47 38 37 31 49 30 27 25 13 26 36 22 14 45 28\n",
      " 32 35 34 29 33]\n",
      "highway-mpg [27 26 30 22 25 20 29 28 53 43 41 38 24 54 42 34 33 31 19 17 23 32 39 18\n",
      " 16 37 50 36 47 46]\n"
     ]
    }
   ],
   "source": [
    "for c in numerical_columns:\n",
    "    print(c, data[c].unique())"
   ]
  },
  {
   "cell_type": "code",
   "execution_count": 44,
   "metadata": {},
   "outputs": [
    {
     "data": {
      "text/plain": [
       "normalized_losses    204\n",
       "make                 204\n",
       "fuel-type            204\n",
       "aspiration           204\n",
       "num_of_doors         204\n",
       "body-style           204\n",
       "drive-wheels         204\n",
       "engine-location      204\n",
       "engine-type          204\n",
       "num-of-cylinders     204\n",
       "fuel-system          204\n",
       "bore                 204\n",
       "stroke               204\n",
       "horsepower           204\n",
       "peak_rpm             204\n",
       "price                204\n",
       "dtype: int64"
      ]
     },
     "execution_count": 44,
     "metadata": {},
     "output_type": "execute_result"
    }
   ],
   "source": [
    "data[categorical_columns].count(axis = 0)"
   ]
  },
  {
   "cell_type": "code",
   "execution_count": 45,
   "metadata": {},
   "outputs": [
    {
     "data": {
      "text/plain": [
       "symboling            204\n",
       "wheel-base           204\n",
       "length               204\n",
       "width                204\n",
       "height               204\n",
       "curb-weight          204\n",
       "engine-size          204\n",
       "compression-ratio    204\n",
       "city-mpg             204\n",
       "highway-mpg          204\n",
       "dtype: int64"
      ]
     },
     "execution_count": 45,
     "metadata": {},
     "output_type": "execute_result"
    }
   ],
   "source": [
    "data[numerical_columns].count(axis = 0)"
   ]
  },
  {
   "cell_type": "code",
   "execution_count": 46,
   "metadata": {},
   "outputs": [
    {
     "data": {
      "text/html": [
       "<div>\n",
       "<style scoped>\n",
       "    .dataframe tbody tr th:only-of-type {\n",
       "        vertical-align: middle;\n",
       "    }\n",
       "\n",
       "    .dataframe tbody tr th {\n",
       "        vertical-align: top;\n",
       "    }\n",
       "\n",
       "    .dataframe thead th {\n",
       "        text-align: right;\n",
       "    }\n",
       "</style>\n",
       "<table border=\"1\" class=\"dataframe\">\n",
       "  <thead>\n",
       "    <tr style=\"text-align: right;\">\n",
       "      <th></th>\n",
       "      <th>normalized_losses</th>\n",
       "      <th>make</th>\n",
       "      <th>fuel-type</th>\n",
       "      <th>aspiration</th>\n",
       "      <th>num_of_doors</th>\n",
       "      <th>body-style</th>\n",
       "      <th>drive-wheels</th>\n",
       "      <th>engine-location</th>\n",
       "      <th>engine-type</th>\n",
       "      <th>num-of-cylinders</th>\n",
       "      <th>fuel-system</th>\n",
       "      <th>bore</th>\n",
       "      <th>stroke</th>\n",
       "      <th>horsepower</th>\n",
       "      <th>peak_rpm</th>\n",
       "      <th>price</th>\n",
       "    </tr>\n",
       "  </thead>\n",
       "  <tbody>\n",
       "    <tr>\n",
       "      <td>count</td>\n",
       "      <td>204</td>\n",
       "      <td>204</td>\n",
       "      <td>204</td>\n",
       "      <td>204</td>\n",
       "      <td>204</td>\n",
       "      <td>204</td>\n",
       "      <td>204</td>\n",
       "      <td>204</td>\n",
       "      <td>204</td>\n",
       "      <td>204</td>\n",
       "      <td>204</td>\n",
       "      <td>204</td>\n",
       "      <td>204</td>\n",
       "      <td>204</td>\n",
       "      <td>204</td>\n",
       "      <td>204</td>\n",
       "    </tr>\n",
       "    <tr>\n",
       "      <td>unique</td>\n",
       "      <td>51</td>\n",
       "      <td>22</td>\n",
       "      <td>2</td>\n",
       "      <td>2</td>\n",
       "      <td>2</td>\n",
       "      <td>5</td>\n",
       "      <td>3</td>\n",
       "      <td>2</td>\n",
       "      <td>7</td>\n",
       "      <td>7</td>\n",
       "      <td>8</td>\n",
       "      <td>38</td>\n",
       "      <td>36</td>\n",
       "      <td>59</td>\n",
       "      <td>23</td>\n",
       "      <td>185</td>\n",
       "    </tr>\n",
       "    <tr>\n",
       "      <td>top</td>\n",
       "      <td>161</td>\n",
       "      <td>toyota</td>\n",
       "      <td>gas</td>\n",
       "      <td>std</td>\n",
       "      <td>four</td>\n",
       "      <td>sedan</td>\n",
       "      <td>fwd</td>\n",
       "      <td>front</td>\n",
       "      <td>ohc</td>\n",
       "      <td>four</td>\n",
       "      <td>mpfi</td>\n",
       "      <td>3.62</td>\n",
       "      <td>3.40</td>\n",
       "      <td>68</td>\n",
       "      <td>5500</td>\n",
       "      <td>8495</td>\n",
       "    </tr>\n",
       "    <tr>\n",
       "      <td>freq</td>\n",
       "      <td>51</td>\n",
       "      <td>32</td>\n",
       "      <td>184</td>\n",
       "      <td>167</td>\n",
       "      <td>116</td>\n",
       "      <td>96</td>\n",
       "      <td>120</td>\n",
       "      <td>201</td>\n",
       "      <td>148</td>\n",
       "      <td>158</td>\n",
       "      <td>93</td>\n",
       "      <td>27</td>\n",
       "      <td>24</td>\n",
       "      <td>21</td>\n",
       "      <td>39</td>\n",
       "      <td>6</td>\n",
       "    </tr>\n",
       "  </tbody>\n",
       "</table>\n",
       "</div>"
      ],
      "text/plain": [
       "       normalized_losses    make fuel-type aspiration num_of_doors body-style  \\\n",
       "count                204     204       204        204          204        204   \n",
       "unique                51      22         2          2            2          5   \n",
       "top                  161  toyota       gas        std         four      sedan   \n",
       "freq                  51      32       184        167          116         96   \n",
       "\n",
       "       drive-wheels engine-location engine-type num-of-cylinders fuel-system  \\\n",
       "count           204             204         204              204         204   \n",
       "unique            3               2           7                7           8   \n",
       "top             fwd           front         ohc             four        mpfi   \n",
       "freq            120             201         148              158          93   \n",
       "\n",
       "        bore stroke horsepower peak_rpm price  \n",
       "count    204    204        204      204   204  \n",
       "unique    38     36         59       23   185  \n",
       "top     3.62   3.40         68     5500  8495  \n",
       "freq      27     24         21       39     6  "
      ]
     },
     "execution_count": 46,
     "metadata": {},
     "output_type": "execute_result"
    }
   ],
   "source": [
    "data.describe(include = [object])"
   ]
  },
  {
   "cell_type": "markdown",
   "metadata": {},
   "source": [
    "Пропусков нет.\n",
    "\n",
    "Векторизация"
   ]
  },
  {
   "cell_type": "code",
   "execution_count": 47,
   "metadata": {},
   "outputs": [
    {
     "name": "stdout",
     "output_type": "stream",
     "text": [
      "['fuel-type', 'aspiration', 'num_of_doors', 'engine-location']\n",
      "['normalized_losses', 'make', 'body-style', 'drive-wheels', 'engine-type', 'num-of-cylinders', 'fuel-system', 'bore', 'stroke', 'horsepower', 'peak_rpm', 'price']\n"
     ]
    }
   ],
   "source": [
    "binary_columns    = [c for c in categorical_columns if data_describe[c]['unique'] == 2]\n",
    "nonbinary_columns = [c for c in categorical_columns if data_describe[c]['unique'] > 2]\n",
    "print(binary_columns)\n",
    "print(nonbinary_columns)"
   ]
  },
  {
   "cell_type": "code",
   "execution_count": 48,
   "metadata": {},
   "outputs": [
    {
     "data": {
      "text/plain": [
       "array(['gas', 'diesel'], dtype=object)"
      ]
     },
     "execution_count": 48,
     "metadata": {},
     "output_type": "execute_result"
    }
   ],
   "source": [
    "data['fuel-type'].unique()"
   ]
  },
  {
   "cell_type": "code",
   "execution_count": 49,
   "metadata": {},
   "outputs": [
    {
     "data": {
      "text/plain": [
       "count    204.000000\n",
       "mean       0.098039\n",
       "std        0.298099\n",
       "min        0.000000\n",
       "25%        0.000000\n",
       "50%        0.000000\n",
       "75%        0.000000\n",
       "max        1.000000\n",
       "Name: fuel-type, dtype: float64"
      ]
     },
     "execution_count": 49,
     "metadata": {},
     "output_type": "execute_result"
    }
   ],
   "source": [
    "data.at[data['fuel-type'] == 'gas', 'fuel-type'] = 0\n",
    "data.at[data['fuel-type'] == 'diesel', 'fuel-type'] = 1\n",
    "data['fuel-type'].describe()"
   ]
  },
  {
   "cell_type": "code",
   "execution_count": 50,
   "metadata": {},
   "outputs": [],
   "source": [
    "#data['aspiration'].unique()"
   ]
  },
  {
   "cell_type": "code",
   "execution_count": 51,
   "metadata": {},
   "outputs": [],
   "source": [
    "#data.at[data['aspiration'] == 'std', 'aspiration'] = 0\n",
    "#data.at[data['aspiration'] == 'turbo', 'aspiration'] = 1\n",
    "#data['aspiration'].describe()"
   ]
  },
  {
   "cell_type": "code",
   "execution_count": 52,
   "metadata": {},
   "outputs": [
    {
     "data": {
      "text/plain": [
       "array(['two', 'four'], dtype=object)"
      ]
     },
     "execution_count": 52,
     "metadata": {},
     "output_type": "execute_result"
    }
   ],
   "source": [
    "data['num_of_doors'].unique()"
   ]
  },
  {
   "cell_type": "code",
   "execution_count": 53,
   "metadata": {},
   "outputs": [
    {
     "data": {
      "text/plain": [
       "count    204.000000\n",
       "mean       0.568627\n",
       "std        0.496486\n",
       "min        0.000000\n",
       "25%        0.000000\n",
       "50%        1.000000\n",
       "75%        1.000000\n",
       "max        1.000000\n",
       "Name: num_of_doors, dtype: float64"
      ]
     },
     "execution_count": 53,
     "metadata": {},
     "output_type": "execute_result"
    }
   ],
   "source": [
    "data.at[data['num_of_doors'] == 'two', 'num_of_doors'] = 0\n",
    "data.at[data['num_of_doors'] == 'four', 'num_of_doors'] = 1\n",
    "data['num_of_doors'].describe()"
   ]
  },
  {
   "cell_type": "code",
   "execution_count": 54,
   "metadata": {},
   "outputs": [
    {
     "data": {
      "text/plain": [
       "array(['front', 'rear'], dtype=object)"
      ]
     },
     "execution_count": 54,
     "metadata": {},
     "output_type": "execute_result"
    }
   ],
   "source": [
    "data['engine-location'].unique()"
   ]
  },
  {
   "cell_type": "code",
   "execution_count": 55,
   "metadata": {},
   "outputs": [
    {
     "data": {
      "text/plain": [
       "count    204.000000\n",
       "mean       0.014706\n",
       "std        0.120669\n",
       "min        0.000000\n",
       "25%        0.000000\n",
       "50%        0.000000\n",
       "75%        0.000000\n",
       "max        1.000000\n",
       "Name: engine-location, dtype: float64"
      ]
     },
     "execution_count": 55,
     "metadata": {},
     "output_type": "execute_result"
    }
   ],
   "source": [
    "data.at[data['engine-location'] == 'front', 'engine-location'] = 0\n",
    "data.at[data['engine-location'] == 'rear', 'engine-location'] = 1\n",
    "data['engine-location'].describe()"
   ]
  },
  {
   "cell_type": "code",
   "execution_count": 56,
   "metadata": {},
   "outputs": [
    {
     "name": "stdout",
     "output_type": "stream",
     "text": [
      "Index(['normalized_losses_101', 'normalized_losses_102',\n",
      "       'normalized_losses_103', 'normalized_losses_104',\n",
      "       'normalized_losses_106', 'normalized_losses_107',\n",
      "       'normalized_losses_108', 'normalized_losses_110',\n",
      "       'normalized_losses_113', 'normalized_losses_115',\n",
      "       ...\n",
      "       'price_9538', 'price_9549', 'price_9639', 'price_9895', 'price_9959',\n",
      "       'price_9960', 'price_9980', 'price_9988', 'price_9989', 'price_9995'],\n",
      "      dtype='object', length=444)\n"
     ]
    }
   ],
   "source": [
    "data_nonbinary = pd.get_dummies(data[nonbinary_columns])\n",
    "print(data_nonbinary.columns)"
   ]
  },
  {
   "cell_type": "markdown",
   "metadata": {},
   "source": [
    "Нормализация"
   ]
  },
  {
   "cell_type": "code",
   "execution_count": 57,
   "metadata": {},
   "outputs": [
    {
     "data": {
      "text/html": [
       "<div>\n",
       "<style scoped>\n",
       "    .dataframe tbody tr th:only-of-type {\n",
       "        vertical-align: middle;\n",
       "    }\n",
       "\n",
       "    .dataframe tbody tr th {\n",
       "        vertical-align: top;\n",
       "    }\n",
       "\n",
       "    .dataframe thead th {\n",
       "        text-align: right;\n",
       "    }\n",
       "</style>\n",
       "<table border=\"1\" class=\"dataframe\">\n",
       "  <thead>\n",
       "    <tr style=\"text-align: right;\">\n",
       "      <th></th>\n",
       "      <th>symboling</th>\n",
       "      <th>wheel-base</th>\n",
       "      <th>length</th>\n",
       "      <th>width</th>\n",
       "      <th>height</th>\n",
       "      <th>curb-weight</th>\n",
       "      <th>engine-size</th>\n",
       "      <th>compression-ratio</th>\n",
       "      <th>city-mpg</th>\n",
       "      <th>highway-mpg</th>\n",
       "    </tr>\n",
       "  </thead>\n",
       "  <tbody>\n",
       "    <tr>\n",
       "      <td>count</td>\n",
       "      <td>204.000000</td>\n",
       "      <td>204.000000</td>\n",
       "      <td>204.000000</td>\n",
       "      <td>204.000000</td>\n",
       "      <td>204.000000</td>\n",
       "      <td>204.000000</td>\n",
       "      <td>204.000000</td>\n",
       "      <td>204.000000</td>\n",
       "      <td>204.000000</td>\n",
       "      <td>204.000000</td>\n",
       "    </tr>\n",
       "    <tr>\n",
       "      <td>mean</td>\n",
       "      <td>0.823529</td>\n",
       "      <td>98.806373</td>\n",
       "      <td>174.075000</td>\n",
       "      <td>65.916667</td>\n",
       "      <td>53.749020</td>\n",
       "      <td>2555.602941</td>\n",
       "      <td>126.892157</td>\n",
       "      <td>10.148137</td>\n",
       "      <td>25.240196</td>\n",
       "      <td>30.769608</td>\n",
       "    </tr>\n",
       "    <tr>\n",
       "      <td>std</td>\n",
       "      <td>1.239035</td>\n",
       "      <td>5.994144</td>\n",
       "      <td>12.362123</td>\n",
       "      <td>2.146716</td>\n",
       "      <td>2.424901</td>\n",
       "      <td>521.960820</td>\n",
       "      <td>41.744569</td>\n",
       "      <td>3.981000</td>\n",
       "      <td>6.551513</td>\n",
       "      <td>6.898337</td>\n",
       "    </tr>\n",
       "    <tr>\n",
       "      <td>min</td>\n",
       "      <td>-2.000000</td>\n",
       "      <td>86.600000</td>\n",
       "      <td>141.100000</td>\n",
       "      <td>60.300000</td>\n",
       "      <td>47.800000</td>\n",
       "      <td>1488.000000</td>\n",
       "      <td>61.000000</td>\n",
       "      <td>7.000000</td>\n",
       "      <td>13.000000</td>\n",
       "      <td>16.000000</td>\n",
       "    </tr>\n",
       "    <tr>\n",
       "      <td>25%</td>\n",
       "      <td>0.000000</td>\n",
       "      <td>94.500000</td>\n",
       "      <td>166.300000</td>\n",
       "      <td>64.075000</td>\n",
       "      <td>52.000000</td>\n",
       "      <td>2145.000000</td>\n",
       "      <td>97.000000</td>\n",
       "      <td>8.575000</td>\n",
       "      <td>19.000000</td>\n",
       "      <td>25.000000</td>\n",
       "    </tr>\n",
       "    <tr>\n",
       "      <td>50%</td>\n",
       "      <td>1.000000</td>\n",
       "      <td>97.000000</td>\n",
       "      <td>173.200000</td>\n",
       "      <td>65.500000</td>\n",
       "      <td>54.100000</td>\n",
       "      <td>2414.000000</td>\n",
       "      <td>119.500000</td>\n",
       "      <td>9.000000</td>\n",
       "      <td>24.000000</td>\n",
       "      <td>30.000000</td>\n",
       "    </tr>\n",
       "    <tr>\n",
       "      <td>75%</td>\n",
       "      <td>2.000000</td>\n",
       "      <td>102.400000</td>\n",
       "      <td>183.200000</td>\n",
       "      <td>66.900000</td>\n",
       "      <td>55.500000</td>\n",
       "      <td>2939.250000</td>\n",
       "      <td>142.000000</td>\n",
       "      <td>9.400000</td>\n",
       "      <td>30.000000</td>\n",
       "      <td>34.500000</td>\n",
       "    </tr>\n",
       "    <tr>\n",
       "      <td>max</td>\n",
       "      <td>3.000000</td>\n",
       "      <td>120.900000</td>\n",
       "      <td>208.100000</td>\n",
       "      <td>72.300000</td>\n",
       "      <td>59.800000</td>\n",
       "      <td>4066.000000</td>\n",
       "      <td>326.000000</td>\n",
       "      <td>23.000000</td>\n",
       "      <td>49.000000</td>\n",
       "      <td>54.000000</td>\n",
       "    </tr>\n",
       "  </tbody>\n",
       "</table>\n",
       "</div>"
      ],
      "text/plain": [
       "        symboling  wheel-base      length       width      height  \\\n",
       "count  204.000000  204.000000  204.000000  204.000000  204.000000   \n",
       "mean     0.823529   98.806373  174.075000   65.916667   53.749020   \n",
       "std      1.239035    5.994144   12.362123    2.146716    2.424901   \n",
       "min     -2.000000   86.600000  141.100000   60.300000   47.800000   \n",
       "25%      0.000000   94.500000  166.300000   64.075000   52.000000   \n",
       "50%      1.000000   97.000000  173.200000   65.500000   54.100000   \n",
       "75%      2.000000  102.400000  183.200000   66.900000   55.500000   \n",
       "max      3.000000  120.900000  208.100000   72.300000   59.800000   \n",
       "\n",
       "       curb-weight  engine-size  compression-ratio    city-mpg  highway-mpg  \n",
       "count   204.000000   204.000000         204.000000  204.000000   204.000000  \n",
       "mean   2555.602941   126.892157          10.148137   25.240196    30.769608  \n",
       "std     521.960820    41.744569           3.981000    6.551513     6.898337  \n",
       "min    1488.000000    61.000000           7.000000   13.000000    16.000000  \n",
       "25%    2145.000000    97.000000           8.575000   19.000000    25.000000  \n",
       "50%    2414.000000   119.500000           9.000000   24.000000    30.000000  \n",
       "75%    2939.250000   142.000000           9.400000   30.000000    34.500000  \n",
       "max    4066.000000   326.000000          23.000000   49.000000    54.000000  "
      ]
     },
     "execution_count": 57,
     "metadata": {},
     "output_type": "execute_result"
    }
   ],
   "source": [
    "data_numerical = data[numerical_columns]\n",
    "data_numerical.describe()"
   ]
  },
  {
   "cell_type": "code",
   "execution_count": 58,
   "metadata": {},
   "outputs": [
    {
     "data": {
      "text/html": [
       "<div>\n",
       "<style scoped>\n",
       "    .dataframe tbody tr th:only-of-type {\n",
       "        vertical-align: middle;\n",
       "    }\n",
       "\n",
       "    .dataframe tbody tr th {\n",
       "        vertical-align: top;\n",
       "    }\n",
       "\n",
       "    .dataframe thead th {\n",
       "        text-align: right;\n",
       "    }\n",
       "</style>\n",
       "<table border=\"1\" class=\"dataframe\">\n",
       "  <thead>\n",
       "    <tr style=\"text-align: right;\">\n",
       "      <th></th>\n",
       "      <th>symboling</th>\n",
       "      <th>wheel-base</th>\n",
       "      <th>length</th>\n",
       "      <th>width</th>\n",
       "      <th>height</th>\n",
       "      <th>curb-weight</th>\n",
       "      <th>engine-size</th>\n",
       "      <th>compression-ratio</th>\n",
       "      <th>city-mpg</th>\n",
       "      <th>highway-mpg</th>\n",
       "    </tr>\n",
       "  </thead>\n",
       "  <tbody>\n",
       "    <tr>\n",
       "      <td>count</td>\n",
       "      <td>2.040000e+02</td>\n",
       "      <td>2.040000e+02</td>\n",
       "      <td>2.040000e+02</td>\n",
       "      <td>2.040000e+02</td>\n",
       "      <td>2.040000e+02</td>\n",
       "      <td>2.040000e+02</td>\n",
       "      <td>2.040000e+02</td>\n",
       "      <td>2.040000e+02</td>\n",
       "      <td>2.040000e+02</td>\n",
       "      <td>2.040000e+02</td>\n",
       "    </tr>\n",
       "    <tr>\n",
       "      <td>mean</td>\n",
       "      <td>6.095342e-17</td>\n",
       "      <td>-1.745009e-14</td>\n",
       "      <td>-1.055365e-14</td>\n",
       "      <td>1.146360e-14</td>\n",
       "      <td>-1.779840e-14</td>\n",
       "      <td>-2.525213e-16</td>\n",
       "      <td>3.047671e-17</td>\n",
       "      <td>-5.224579e-16</td>\n",
       "      <td>2.612289e-16</td>\n",
       "      <td>8.707632e-18</td>\n",
       "    </tr>\n",
       "    <tr>\n",
       "      <td>std</td>\n",
       "      <td>1.000000e+00</td>\n",
       "      <td>1.000000e+00</td>\n",
       "      <td>1.000000e+00</td>\n",
       "      <td>1.000000e+00</td>\n",
       "      <td>1.000000e+00</td>\n",
       "      <td>1.000000e+00</td>\n",
       "      <td>1.000000e+00</td>\n",
       "      <td>1.000000e+00</td>\n",
       "      <td>1.000000e+00</td>\n",
       "      <td>1.000000e+00</td>\n",
       "    </tr>\n",
       "    <tr>\n",
       "      <td>min</td>\n",
       "      <td>-2.278814e+00</td>\n",
       "      <td>-2.036383e+00</td>\n",
       "      <td>-2.667422e+00</td>\n",
       "      <td>-2.616399e+00</td>\n",
       "      <td>-2.453304e+00</td>\n",
       "      <td>-2.045370e+00</td>\n",
       "      <td>-1.578461e+00</td>\n",
       "      <td>-7.907905e-01</td>\n",
       "      <td>-1.868301e+00</td>\n",
       "      <td>-2.141039e+00</td>\n",
       "    </tr>\n",
       "    <tr>\n",
       "      <td>25%</td>\n",
       "      <td>-6.646540e-01</td>\n",
       "      <td>-7.184299e-01</td>\n",
       "      <td>-6.289373e-01</td>\n",
       "      <td>-8.578994e-01</td>\n",
       "      <td>-7.212745e-01</td>\n",
       "      <td>-7.866547e-01</td>\n",
       "      <td>-7.160730e-01</td>\n",
       "      <td>-3.951613e-01</td>\n",
       "      <td>-9.524817e-01</td>\n",
       "      <td>-8.363766e-01</td>\n",
       "    </tr>\n",
       "    <tr>\n",
       "      <td>50%</td>\n",
       "      <td>1.424259e-01</td>\n",
       "      <td>-3.013562e-01</td>\n",
       "      <td>-7.078072e-02</td>\n",
       "      <td>-1.940949e-01</td>\n",
       "      <td>1.447401e-01</td>\n",
       "      <td>-2.712904e-01</td>\n",
       "      <td>-1.770807e-01</td>\n",
       "      <td>-2.884042e-01</td>\n",
       "      <td>-1.892992e-01</td>\n",
       "      <td>-1.115643e-01</td>\n",
       "    </tr>\n",
       "    <tr>\n",
       "      <td>75%</td>\n",
       "      <td>9.495057e-01</td>\n",
       "      <td>5.995230e-01</td>\n",
       "      <td>7.381418e-01</td>\n",
       "      <td>4.580639e-01</td>\n",
       "      <td>7.220831e-01</td>\n",
       "      <td>7.350112e-01</td>\n",
       "      <td>3.619116e-01</td>\n",
       "      <td>-1.879270e-01</td>\n",
       "      <td>7.265198e-01</td>\n",
       "      <td>5.407669e-01</td>\n",
       "    </tr>\n",
       "    <tr>\n",
       "      <td>max</td>\n",
       "      <td>1.756586e+00</td>\n",
       "      <td>3.685869e+00</td>\n",
       "      <td>2.752359e+00</td>\n",
       "      <td>2.973534e+00</td>\n",
       "      <td>2.495351e+00</td>\n",
       "      <td>2.893698e+00</td>\n",
       "      <td>4.769671e+00</td>\n",
       "      <td>3.228300e+00</td>\n",
       "      <td>3.626613e+00</td>\n",
       "      <td>3.367535e+00</td>\n",
       "    </tr>\n",
       "  </tbody>\n",
       "</table>\n",
       "</div>"
      ],
      "text/plain": [
       "          symboling    wheel-base        length         width        height  \\\n",
       "count  2.040000e+02  2.040000e+02  2.040000e+02  2.040000e+02  2.040000e+02   \n",
       "mean   6.095342e-17 -1.745009e-14 -1.055365e-14  1.146360e-14 -1.779840e-14   \n",
       "std    1.000000e+00  1.000000e+00  1.000000e+00  1.000000e+00  1.000000e+00   \n",
       "min   -2.278814e+00 -2.036383e+00 -2.667422e+00 -2.616399e+00 -2.453304e+00   \n",
       "25%   -6.646540e-01 -7.184299e-01 -6.289373e-01 -8.578994e-01 -7.212745e-01   \n",
       "50%    1.424259e-01 -3.013562e-01 -7.078072e-02 -1.940949e-01  1.447401e-01   \n",
       "75%    9.495057e-01  5.995230e-01  7.381418e-01  4.580639e-01  7.220831e-01   \n",
       "max    1.756586e+00  3.685869e+00  2.752359e+00  2.973534e+00  2.495351e+00   \n",
       "\n",
       "        curb-weight   engine-size  compression-ratio      city-mpg  \\\n",
       "count  2.040000e+02  2.040000e+02       2.040000e+02  2.040000e+02   \n",
       "mean  -2.525213e-16  3.047671e-17      -5.224579e-16  2.612289e-16   \n",
       "std    1.000000e+00  1.000000e+00       1.000000e+00  1.000000e+00   \n",
       "min   -2.045370e+00 -1.578461e+00      -7.907905e-01 -1.868301e+00   \n",
       "25%   -7.866547e-01 -7.160730e-01      -3.951613e-01 -9.524817e-01   \n",
       "50%   -2.712904e-01 -1.770807e-01      -2.884042e-01 -1.892992e-01   \n",
       "75%    7.350112e-01  3.619116e-01      -1.879270e-01  7.265198e-01   \n",
       "max    2.893698e+00  4.769671e+00       3.228300e+00  3.626613e+00   \n",
       "\n",
       "        highway-mpg  \n",
       "count  2.040000e+02  \n",
       "mean   8.707632e-18  \n",
       "std    1.000000e+00  \n",
       "min   -2.141039e+00  \n",
       "25%   -8.363766e-01  \n",
       "50%   -1.115643e-01  \n",
       "75%    5.407669e-01  \n",
       "max    3.367535e+00  "
      ]
     },
     "execution_count": 58,
     "metadata": {},
     "output_type": "execute_result"
    }
   ],
   "source": [
    "data_numerical = (data_numerical - data_numerical.mean(axis = 0))/data_numerical.std(axis = 0)\n",
    "data_numerical.describe()"
   ]
  },
  {
   "cell_type": "code",
   "execution_count": 59,
   "metadata": {},
   "outputs": [
    {
     "name": "stdout",
     "output_type": "stream",
     "text": [
      "(204, 458)\n"
     ]
    }
   ],
   "source": [
    "data = pd.concat((data_numerical, data_nonbinary, data[binary_columns]), axis = 1)\n",
    "print(data.shape)"
   ]
  },
  {
   "cell_type": "code",
   "execution_count": 60,
   "metadata": {},
   "outputs": [
    {
     "name": "stdout",
     "output_type": "stream",
     "text": [
      "Index(['symboling', 'wheel-base', 'length', 'width', 'height', 'curb-weight',\n",
      "       'engine-size', 'compression-ratio', 'city-mpg', 'highway-mpg',\n",
      "       ...\n",
      "       'price_9959', 'price_9960', 'price_9980', 'price_9988', 'price_9989',\n",
      "       'price_9995', 'fuel-type', 'aspiration', 'num_of_doors',\n",
      "       'engine-location'],\n",
      "      dtype='object', length=458)\n"
     ]
    }
   ],
   "source": [
    "print(data.columns)"
   ]
  },
  {
   "cell_type": "code",
   "execution_count": 61,
   "metadata": {},
   "outputs": [
    {
     "data": {
      "text/html": [
       "<div>\n",
       "<style scoped>\n",
       "    .dataframe tbody tr th:only-of-type {\n",
       "        vertical-align: middle;\n",
       "    }\n",
       "\n",
       "    .dataframe tbody tr th {\n",
       "        vertical-align: top;\n",
       "    }\n",
       "\n",
       "    .dataframe thead th {\n",
       "        text-align: right;\n",
       "    }\n",
       "</style>\n",
       "<table border=\"1\" class=\"dataframe\">\n",
       "  <thead>\n",
       "    <tr style=\"text-align: right;\">\n",
       "      <th></th>\n",
       "      <th>symboling</th>\n",
       "      <th>wheel-base</th>\n",
       "      <th>length</th>\n",
       "      <th>width</th>\n",
       "      <th>height</th>\n",
       "      <th>curb-weight</th>\n",
       "      <th>engine-size</th>\n",
       "      <th>compression-ratio</th>\n",
       "      <th>city-mpg</th>\n",
       "      <th>highway-mpg</th>\n",
       "      <th>...</th>\n",
       "      <th>price_9895</th>\n",
       "      <th>price_9959</th>\n",
       "      <th>price_9960</th>\n",
       "      <th>price_9980</th>\n",
       "      <th>price_9988</th>\n",
       "      <th>price_9989</th>\n",
       "      <th>price_9995</th>\n",
       "      <th>fuel-type</th>\n",
       "      <th>num_of_doors</th>\n",
       "      <th>engine-location</th>\n",
       "    </tr>\n",
       "  </thead>\n",
       "  <tbody>\n",
       "    <tr>\n",
       "      <td>count</td>\n",
       "      <td>2.040000e+02</td>\n",
       "      <td>2.040000e+02</td>\n",
       "      <td>2.040000e+02</td>\n",
       "      <td>2.040000e+02</td>\n",
       "      <td>2.040000e+02</td>\n",
       "      <td>2.040000e+02</td>\n",
       "      <td>2.040000e+02</td>\n",
       "      <td>2.040000e+02</td>\n",
       "      <td>2.040000e+02</td>\n",
       "      <td>2.040000e+02</td>\n",
       "      <td>...</td>\n",
       "      <td>204.000000</td>\n",
       "      <td>204.000000</td>\n",
       "      <td>204.000000</td>\n",
       "      <td>204.000000</td>\n",
       "      <td>204.000000</td>\n",
       "      <td>204.000000</td>\n",
       "      <td>204.000000</td>\n",
       "      <td>204.000000</td>\n",
       "      <td>204.000000</td>\n",
       "      <td>204.000000</td>\n",
       "    </tr>\n",
       "    <tr>\n",
       "      <td>mean</td>\n",
       "      <td>6.095342e-17</td>\n",
       "      <td>-1.745009e-14</td>\n",
       "      <td>-1.055365e-14</td>\n",
       "      <td>1.146360e-14</td>\n",
       "      <td>-1.779840e-14</td>\n",
       "      <td>-2.525213e-16</td>\n",
       "      <td>3.047671e-17</td>\n",
       "      <td>-5.224579e-16</td>\n",
       "      <td>2.612289e-16</td>\n",
       "      <td>8.707632e-18</td>\n",
       "      <td>...</td>\n",
       "      <td>0.004902</td>\n",
       "      <td>0.004902</td>\n",
       "      <td>0.004902</td>\n",
       "      <td>0.004902</td>\n",
       "      <td>0.004902</td>\n",
       "      <td>0.004902</td>\n",
       "      <td>0.004902</td>\n",
       "      <td>0.098039</td>\n",
       "      <td>0.568627</td>\n",
       "      <td>0.014706</td>\n",
       "    </tr>\n",
       "    <tr>\n",
       "      <td>std</td>\n",
       "      <td>1.000000e+00</td>\n",
       "      <td>1.000000e+00</td>\n",
       "      <td>1.000000e+00</td>\n",
       "      <td>1.000000e+00</td>\n",
       "      <td>1.000000e+00</td>\n",
       "      <td>1.000000e+00</td>\n",
       "      <td>1.000000e+00</td>\n",
       "      <td>1.000000e+00</td>\n",
       "      <td>1.000000e+00</td>\n",
       "      <td>1.000000e+00</td>\n",
       "      <td>...</td>\n",
       "      <td>0.070014</td>\n",
       "      <td>0.070014</td>\n",
       "      <td>0.070014</td>\n",
       "      <td>0.070014</td>\n",
       "      <td>0.070014</td>\n",
       "      <td>0.070014</td>\n",
       "      <td>0.070014</td>\n",
       "      <td>0.298099</td>\n",
       "      <td>0.496486</td>\n",
       "      <td>0.120669</td>\n",
       "    </tr>\n",
       "    <tr>\n",
       "      <td>min</td>\n",
       "      <td>-2.278814e+00</td>\n",
       "      <td>-2.036383e+00</td>\n",
       "      <td>-2.667422e+00</td>\n",
       "      <td>-2.616399e+00</td>\n",
       "      <td>-2.453304e+00</td>\n",
       "      <td>-2.045370e+00</td>\n",
       "      <td>-1.578461e+00</td>\n",
       "      <td>-7.907905e-01</td>\n",
       "      <td>-1.868301e+00</td>\n",
       "      <td>-2.141039e+00</td>\n",
       "      <td>...</td>\n",
       "      <td>0.000000</td>\n",
       "      <td>0.000000</td>\n",
       "      <td>0.000000</td>\n",
       "      <td>0.000000</td>\n",
       "      <td>0.000000</td>\n",
       "      <td>0.000000</td>\n",
       "      <td>0.000000</td>\n",
       "      <td>0.000000</td>\n",
       "      <td>0.000000</td>\n",
       "      <td>0.000000</td>\n",
       "    </tr>\n",
       "    <tr>\n",
       "      <td>25%</td>\n",
       "      <td>-6.646540e-01</td>\n",
       "      <td>-7.184299e-01</td>\n",
       "      <td>-6.289373e-01</td>\n",
       "      <td>-8.578994e-01</td>\n",
       "      <td>-7.212745e-01</td>\n",
       "      <td>-7.866547e-01</td>\n",
       "      <td>-7.160730e-01</td>\n",
       "      <td>-3.951613e-01</td>\n",
       "      <td>-9.524817e-01</td>\n",
       "      <td>-8.363766e-01</td>\n",
       "      <td>...</td>\n",
       "      <td>0.000000</td>\n",
       "      <td>0.000000</td>\n",
       "      <td>0.000000</td>\n",
       "      <td>0.000000</td>\n",
       "      <td>0.000000</td>\n",
       "      <td>0.000000</td>\n",
       "      <td>0.000000</td>\n",
       "      <td>0.000000</td>\n",
       "      <td>0.000000</td>\n",
       "      <td>0.000000</td>\n",
       "    </tr>\n",
       "    <tr>\n",
       "      <td>50%</td>\n",
       "      <td>1.424259e-01</td>\n",
       "      <td>-3.013562e-01</td>\n",
       "      <td>-7.078072e-02</td>\n",
       "      <td>-1.940949e-01</td>\n",
       "      <td>1.447401e-01</td>\n",
       "      <td>-2.712904e-01</td>\n",
       "      <td>-1.770807e-01</td>\n",
       "      <td>-2.884042e-01</td>\n",
       "      <td>-1.892992e-01</td>\n",
       "      <td>-1.115643e-01</td>\n",
       "      <td>...</td>\n",
       "      <td>0.000000</td>\n",
       "      <td>0.000000</td>\n",
       "      <td>0.000000</td>\n",
       "      <td>0.000000</td>\n",
       "      <td>0.000000</td>\n",
       "      <td>0.000000</td>\n",
       "      <td>0.000000</td>\n",
       "      <td>0.000000</td>\n",
       "      <td>1.000000</td>\n",
       "      <td>0.000000</td>\n",
       "    </tr>\n",
       "    <tr>\n",
       "      <td>75%</td>\n",
       "      <td>9.495057e-01</td>\n",
       "      <td>5.995230e-01</td>\n",
       "      <td>7.381418e-01</td>\n",
       "      <td>4.580639e-01</td>\n",
       "      <td>7.220831e-01</td>\n",
       "      <td>7.350112e-01</td>\n",
       "      <td>3.619116e-01</td>\n",
       "      <td>-1.879270e-01</td>\n",
       "      <td>7.265198e-01</td>\n",
       "      <td>5.407669e-01</td>\n",
       "      <td>...</td>\n",
       "      <td>0.000000</td>\n",
       "      <td>0.000000</td>\n",
       "      <td>0.000000</td>\n",
       "      <td>0.000000</td>\n",
       "      <td>0.000000</td>\n",
       "      <td>0.000000</td>\n",
       "      <td>0.000000</td>\n",
       "      <td>0.000000</td>\n",
       "      <td>1.000000</td>\n",
       "      <td>0.000000</td>\n",
       "    </tr>\n",
       "    <tr>\n",
       "      <td>max</td>\n",
       "      <td>1.756586e+00</td>\n",
       "      <td>3.685869e+00</td>\n",
       "      <td>2.752359e+00</td>\n",
       "      <td>2.973534e+00</td>\n",
       "      <td>2.495351e+00</td>\n",
       "      <td>2.893698e+00</td>\n",
       "      <td>4.769671e+00</td>\n",
       "      <td>3.228300e+00</td>\n",
       "      <td>3.626613e+00</td>\n",
       "      <td>3.367535e+00</td>\n",
       "      <td>...</td>\n",
       "      <td>1.000000</td>\n",
       "      <td>1.000000</td>\n",
       "      <td>1.000000</td>\n",
       "      <td>1.000000</td>\n",
       "      <td>1.000000</td>\n",
       "      <td>1.000000</td>\n",
       "      <td>1.000000</td>\n",
       "      <td>1.000000</td>\n",
       "      <td>1.000000</td>\n",
       "      <td>1.000000</td>\n",
       "    </tr>\n",
       "  </tbody>\n",
       "</table>\n",
       "<p>8 rows × 457 columns</p>\n",
       "</div>"
      ],
      "text/plain": [
       "          symboling    wheel-base        length         width        height  \\\n",
       "count  2.040000e+02  2.040000e+02  2.040000e+02  2.040000e+02  2.040000e+02   \n",
       "mean   6.095342e-17 -1.745009e-14 -1.055365e-14  1.146360e-14 -1.779840e-14   \n",
       "std    1.000000e+00  1.000000e+00  1.000000e+00  1.000000e+00  1.000000e+00   \n",
       "min   -2.278814e+00 -2.036383e+00 -2.667422e+00 -2.616399e+00 -2.453304e+00   \n",
       "25%   -6.646540e-01 -7.184299e-01 -6.289373e-01 -8.578994e-01 -7.212745e-01   \n",
       "50%    1.424259e-01 -3.013562e-01 -7.078072e-02 -1.940949e-01  1.447401e-01   \n",
       "75%    9.495057e-01  5.995230e-01  7.381418e-01  4.580639e-01  7.220831e-01   \n",
       "max    1.756586e+00  3.685869e+00  2.752359e+00  2.973534e+00  2.495351e+00   \n",
       "\n",
       "        curb-weight   engine-size  compression-ratio      city-mpg  \\\n",
       "count  2.040000e+02  2.040000e+02       2.040000e+02  2.040000e+02   \n",
       "mean  -2.525213e-16  3.047671e-17      -5.224579e-16  2.612289e-16   \n",
       "std    1.000000e+00  1.000000e+00       1.000000e+00  1.000000e+00   \n",
       "min   -2.045370e+00 -1.578461e+00      -7.907905e-01 -1.868301e+00   \n",
       "25%   -7.866547e-01 -7.160730e-01      -3.951613e-01 -9.524817e-01   \n",
       "50%   -2.712904e-01 -1.770807e-01      -2.884042e-01 -1.892992e-01   \n",
       "75%    7.350112e-01  3.619116e-01      -1.879270e-01  7.265198e-01   \n",
       "max    2.893698e+00  4.769671e+00       3.228300e+00  3.626613e+00   \n",
       "\n",
       "        highway-mpg  ...  price_9895  price_9959  price_9960  price_9980  \\\n",
       "count  2.040000e+02  ...  204.000000  204.000000  204.000000  204.000000   \n",
       "mean   8.707632e-18  ...    0.004902    0.004902    0.004902    0.004902   \n",
       "std    1.000000e+00  ...    0.070014    0.070014    0.070014    0.070014   \n",
       "min   -2.141039e+00  ...    0.000000    0.000000    0.000000    0.000000   \n",
       "25%   -8.363766e-01  ...    0.000000    0.000000    0.000000    0.000000   \n",
       "50%   -1.115643e-01  ...    0.000000    0.000000    0.000000    0.000000   \n",
       "75%    5.407669e-01  ...    0.000000    0.000000    0.000000    0.000000   \n",
       "max    3.367535e+00  ...    1.000000    1.000000    1.000000    1.000000   \n",
       "\n",
       "       price_9988  price_9989  price_9995   fuel-type  num_of_doors  \\\n",
       "count  204.000000  204.000000  204.000000  204.000000    204.000000   \n",
       "mean     0.004902    0.004902    0.004902    0.098039      0.568627   \n",
       "std      0.070014    0.070014    0.070014    0.298099      0.496486   \n",
       "min      0.000000    0.000000    0.000000    0.000000      0.000000   \n",
       "25%      0.000000    0.000000    0.000000    0.000000      0.000000   \n",
       "50%      0.000000    0.000000    0.000000    0.000000      1.000000   \n",
       "75%      0.000000    0.000000    0.000000    0.000000      1.000000   \n",
       "max      1.000000    1.000000    1.000000    1.000000      1.000000   \n",
       "\n",
       "       engine-location  \n",
       "count       204.000000  \n",
       "mean          0.014706  \n",
       "std           0.120669  \n",
       "min           0.000000  \n",
       "25%           0.000000  \n",
       "50%           0.000000  \n",
       "75%           0.000000  \n",
       "max           1.000000  \n",
       "\n",
       "[8 rows x 457 columns]"
      ]
     },
     "execution_count": 61,
     "metadata": {},
     "output_type": "execute_result"
    }
   ],
   "source": [
    "data.describe()"
   ]
  },
  {
   "cell_type": "markdown",
   "metadata": {},
   "source": [
    "Х и У"
   ]
  },
  {
   "cell_type": "code",
   "execution_count": 62,
   "metadata": {},
   "outputs": [],
   "source": [
    "X = data.drop(('aspiration'), axis = 1) # выбрасываем столбец 'aspiration'\n",
    "y = data['aspiration']\n",
    "feature_names = X.columns"
   ]
  },
  {
   "cell_type": "code",
   "execution_count": 63,
   "metadata": {},
   "outputs": [
    {
     "data": {
      "text/plain": [
       "pandas.core.indexes.base.Index"
      ]
     },
     "execution_count": 63,
     "metadata": {},
     "output_type": "execute_result"
    }
   ],
   "source": [
    "type(feature_names)"
   ]
  },
  {
   "cell_type": "code",
   "execution_count": 64,
   "metadata": {},
   "outputs": [
    {
     "data": {
      "text/plain": [
       "Index(['symboling', 'wheel-base', 'length', 'width', 'height', 'curb-weight',\n",
       "       'engine-size', 'compression-ratio', 'city-mpg', 'highway-mpg',\n",
       "       ...\n",
       "       'price_9895', 'price_9959', 'price_9960', 'price_9980', 'price_9988',\n",
       "       'price_9989', 'price_9995', 'fuel-type', 'num_of_doors',\n",
       "       'engine-location'],\n",
       "      dtype='object', length=457)"
      ]
     },
     "execution_count": 64,
     "metadata": {},
     "output_type": "execute_result"
    }
   ],
   "source": [
    "feature_names"
   ]
  },
  {
   "cell_type": "code",
   "execution_count": 65,
   "metadata": {},
   "outputs": [],
   "source": [
    "X = X.to_numpy()"
   ]
  },
  {
   "cell_type": "code",
   "execution_count": 66,
   "metadata": {},
   "outputs": [],
   "source": [
    "y = np.array(y != 'std', dtype = 'int')"
   ]
  },
  {
   "cell_type": "code",
   "execution_count": 67,
   "metadata": {},
   "outputs": [
    {
     "data": {
      "text/plain": [
       "array([0, 0, 0, 0, 0, 0, 0, 1, 1, 0, 0, 0, 0, 0, 0, 0, 0, 0, 0, 0, 0, 0,\n",
       "       1, 0, 0, 0, 1, 0, 1, 0, 0, 0, 0, 0, 0, 0, 0, 0, 0, 0, 0, 0, 0, 0,\n",
       "       0, 0, 0, 0, 0, 0, 0, 0, 0, 0, 0, 0, 0, 0, 0, 0, 0, 0, 0, 0, 0, 0,\n",
       "       1, 1, 1, 1, 0, 0, 0, 0, 1, 0, 0, 0, 1, 1, 0, 1, 1, 1, 0, 0, 1, 0,\n",
       "       0, 0, 0, 0, 0, 0, 0, 0, 0, 0, 0, 0, 0, 0, 0, 0, 1, 0, 0, 1, 0, 1,\n",
       "       0, 1, 0, 1, 0, 1, 1, 0, 1, 0, 0, 0, 0, 1, 0, 0, 0, 0, 0, 0, 0, 0,\n",
       "       0, 0, 0, 1, 1, 0, 0, 0, 0, 0, 0, 0, 1, 0, 0, 0, 1, 0, 0, 0, 0, 0,\n",
       "       0, 0, 0, 0, 0, 0, 0, 0, 0, 0, 0, 0, 0, 0, 0, 0, 0, 0, 0, 1, 0, 0,\n",
       "       0, 0, 0, 0, 0, 0, 0, 0, 0, 0, 1, 0, 0, 0, 0, 1, 0, 0, 0, 0, 0, 1,\n",
       "       1, 0, 1, 0, 1, 1])"
      ]
     },
     "execution_count": 67,
     "metadata": {},
     "output_type": "execute_result"
    }
   ],
   "source": [
    "y"
   ]
  },
  {
   "cell_type": "code",
   "execution_count": 68,
   "metadata": {},
   "outputs": [
    {
     "name": "stdout",
     "output_type": "stream",
     "text": [
      "(204, 457)\n",
      "(204,)\n"
     ]
    }
   ],
   "source": [
    "print(X.shape)\n",
    "print(y.shape)\n",
    "N, d = X.shape"
   ]
  },
  {
   "cell_type": "code",
   "execution_count": 69,
   "metadata": {},
   "outputs": [
    {
     "data": {
      "text/plain": [
       "numpy.ndarray"
      ]
     },
     "execution_count": 69,
     "metadata": {},
     "output_type": "execute_result"
    }
   ],
   "source": [
    "type(X)"
   ]
  },
  {
   "cell_type": "code",
   "execution_count": 70,
   "metadata": {},
   "outputs": [
    {
     "data": {
      "text/plain": [
       "numpy.ndarray"
      ]
     },
     "execution_count": 70,
     "metadata": {},
     "output_type": "execute_result"
    }
   ],
   "source": [
    "type(y)"
   ]
  },
  {
   "cell_type": "code",
   "execution_count": 71,
   "metadata": {},
   "outputs": [
    {
     "name": "stdout",
     "output_type": "stream",
     "text": [
      "142 62\n"
     ]
    }
   ],
   "source": [
    "from sklearn.model_selection import train_test_split\n",
    "X_train, X_test, y_train, y_test = train_test_split(X, y, test_size = 0.3, random_state = 42)\n",
    "\n",
    "N_train, _ = X_train.shape \n",
    "N_test,  _ = X_test.shape \n",
    "\n",
    "print(N_train, N_test)"
   ]
  },
  {
   "cell_type": "code",
   "execution_count": 72,
   "metadata": {},
   "outputs": [
    {
     "data": {
      "text/plain": [
       "204"
      ]
     },
     "execution_count": 72,
     "metadata": {},
     "output_type": "execute_result"
    }
   ],
   "source": [
    "142+62"
   ]
  },
  {
   "cell_type": "code",
   "execution_count": 73,
   "metadata": {},
   "outputs": [
    {
     "data": {
      "text/plain": [
       "numpy.ndarray"
      ]
     },
     "execution_count": 73,
     "metadata": {},
     "output_type": "execute_result"
    }
   ],
   "source": [
    "type(X_train)"
   ]
  },
  {
   "cell_type": "code",
   "execution_count": 74,
   "metadata": {},
   "outputs": [
    {
     "data": {
      "text/plain": [
       "numpy.ndarray"
      ]
     },
     "execution_count": 74,
     "metadata": {},
     "output_type": "execute_result"
    }
   ],
   "source": [
    "type(y_train)"
   ]
  },
  {
   "cell_type": "code",
   "execution_count": 75,
   "metadata": {},
   "outputs": [],
   "source": [
    "#from sklearn import preprocessing\n",
    "#from sklearn import utils\n",
    "\n",
    "#lab_enc = preprocessing.LabelEncoder()\n",
    "#Y_train = lab_enc.fit_transform(y_train)\n",
    "\n",
    "#print(utils.multiclass.type_of_target(y_train))\n",
    "\n",
    "#print(utils.multiclass.type_of_target(Y_train))"
   ]
  },
  {
   "cell_type": "code",
   "execution_count": 76,
   "metadata": {},
   "outputs": [],
   "source": [
    "#Y_test = lab_enc.fit_transform(y_test)"
   ]
  },
  {
   "cell_type": "code",
   "execution_count": 77,
   "metadata": {},
   "outputs": [],
   "source": [
    "#X_train = X_train.drop('aspiration', axis = 1)\\\n",
    "#            .drop('engine-location', axis = 1)"
   ]
  },
  {
   "cell_type": "code",
   "execution_count": 78,
   "metadata": {},
   "outputs": [],
   "source": [
    "#X_test = X_test.drop('aspiration', axis = 1)\\\n",
    "#            .drop('engine-location', axis = 1)"
   ]
  },
  {
   "cell_type": "code",
   "execution_count": null,
   "metadata": {},
   "outputs": [],
   "source": []
  },
  {
   "cell_type": "code",
   "execution_count": 79,
   "metadata": {},
   "outputs": [],
   "source": [
    "#y_train"
   ]
  },
  {
   "cell_type": "code",
   "execution_count": 80,
   "metadata": {},
   "outputs": [],
   "source": [
    "#Y_train"
   ]
  },
  {
   "cell_type": "markdown",
   "metadata": {},
   "source": [
    "KNN"
   ]
  },
  {
   "cell_type": "code",
   "execution_count": 81,
   "metadata": {},
   "outputs": [
    {
     "data": {
      "text/plain": [
       "KNeighborsClassifier(algorithm='auto', leaf_size=30, metric='minkowski',\n",
       "                     metric_params=None, n_jobs=None, n_neighbors=10, p=2,\n",
       "                     weights='uniform')"
      ]
     },
     "execution_count": 81,
     "metadata": {},
     "output_type": "execute_result"
    }
   ],
   "source": [
    "from sklearn.neighbors import KNeighborsClassifier\n",
    "\n",
    "knn = KNeighborsClassifier(n_neighbors = 10)\n",
    "#knn.set_params(n_neighbors=10)\n",
    "knn.fit(X_train, y_train)#.astype('float64'))"
   ]
  },
  {
   "cell_type": "code",
   "execution_count": 82,
   "metadata": {},
   "outputs": [
    {
     "data": {
      "text/plain": [
       "KNeighborsClassifier(algorithm='auto', leaf_size=30, metric='minkowski',\n",
       "                     metric_params=None, n_jobs=None, n_neighbors=10, p=2,\n",
       "                     weights='uniform')"
      ]
     },
     "execution_count": 82,
     "metadata": {},
     "output_type": "execute_result"
    }
   ],
   "source": [
    "knn"
   ]
  },
  {
   "cell_type": "code",
   "execution_count": 83,
   "metadata": {},
   "outputs": [],
   "source": [
    "y_test_predict = knn.predict(X_test)\n",
    "err_test = np.mean(y_test != y_test_predict)"
   ]
  },
  {
   "cell_type": "code",
   "execution_count": 84,
   "metadata": {},
   "outputs": [
    {
     "data": {
      "text/plain": [
       "0.17741935483870963"
      ]
     },
     "execution_count": 84,
     "metadata": {},
     "output_type": "execute_result"
    }
   ],
   "source": [
    "err_test = 1 - knn.score(X_test, y_test)\n",
    "\n",
    "err_test"
   ]
  },
  {
   "cell_type": "code",
   "execution_count": 85,
   "metadata": {},
   "outputs": [
    {
     "name": "stdout",
     "output_type": "stream",
     "text": [
      "[[47  0]\n",
      " [11  4]]\n"
     ]
    }
   ],
   "source": [
    "from sklearn.metrics import confusion_matrix\n",
    "\n",
    "print(confusion_matrix(y_test, y_test_predict))"
   ]
  },
  {
   "cell_type": "code",
   "execution_count": 86,
   "metadata": {},
   "outputs": [
    {
     "data": {
      "text/plain": [
       "array([[3, 0],\n",
       "       [1, 1]])"
      ]
     },
     "execution_count": 86,
     "metadata": {},
     "output_type": "execute_result"
    }
   ],
   "source": [
    "confusion_matrix([0,1,0,1,0], [0,1,0,0,0])"
   ]
  },
  {
   "cell_type": "markdown",
   "metadata": {},
   "source": [
    "Подбор параметров"
   ]
  },
  {
   "cell_type": "code",
   "execution_count": 87,
   "metadata": {},
   "outputs": [
    {
     "name": "stdout",
     "output_type": "stream",
     "text": [
      "0.09859154929577463 1\n"
     ]
    },
    {
     "name": "stderr",
     "output_type": "stream",
     "text": [
      "/Library/Frameworks/Python.framework/Versions/3.7/lib/python3.7/site-packages/sklearn/model_selection/_search.py:814: DeprecationWarning: The default of the `iid` parameter will change from True to False in version 0.22 and will be removed in 0.24. This will change numeric results when test-set sizes are unequal.\n",
      "  DeprecationWarning)\n"
     ]
    }
   ],
   "source": [
    "from sklearn.model_selection import GridSearchCV\n",
    "nnb = [1, 3, 5, 10, 15, 20, 25, 35, 45, 55]\n",
    "knn = KNeighborsClassifier()\n",
    "grid = GridSearchCV(knn, param_grid = {'n_neighbors': nnb}, cv=10)\n",
    "grid.fit(X_train, y_train)\n",
    "\n",
    "best_cv_err = 1 - grid.best_score_\n",
    "best_n_neighbors = grid.best_estimator_.n_neighbors\n",
    "print(best_cv_err, best_n_neighbors)"
   ]
  },
  {
   "cell_type": "code",
   "execution_count": 88,
   "metadata": {},
   "outputs": [
    {
     "name": "stdout",
     "output_type": "stream",
     "text": [
      "0.0 0.0967741935483871\n"
     ]
    }
   ],
   "source": [
    "knn = KNeighborsClassifier(n_neighbors = best_n_neighbors).fit(X_train, y_train)\n",
    "\n",
    "err_train = np.mean(y_train != knn.predict(X_train))\n",
    "err_test  = np.mean(y_test  != knn.predict(X_test))\n",
    "\n",
    "print(err_train, err_test)"
   ]
  },
  {
   "cell_type": "markdown",
   "metadata": {},
   "source": [
    "РСА"
   ]
  },
  {
   "cell_type": "code",
   "execution_count": 89,
   "metadata": {},
   "outputs": [
    {
     "data": {
      "image/png": "[encoded data removed]",
      "text/plain": [
       "<Figure size 432x288 with 1 Axes>"
      ]
     },
     "metadata": {
      "needs_background": "light"
     },
     "output_type": "display_data"
    }
   ],
   "source": [
    "from sklearn.decomposition import PCA\n",
    "\n",
    "components_arr = np.arange(1, 25)\n",
    "test_err = []\n",
    "train_err = []\n",
    "\n",
    "for components in components_arr:\n",
    "    pca = PCA(n_components=components)\n",
    "    X_pca = pca.fit_transform(X)\n",
    "    X_train, X_test, y_train, y_test = train_test_split(X_pca, y, test_size = 0.3, random_state = 42)\n",
    "    knn = KNeighborsClassifier(n_neighbors = 1)\n",
    "    knn.fit(X_train, y_train)\n",
    "    \n",
    "    train_err.append(np.mean(y_train != knn.predict(X_train)))\n",
    "    test_err.append(np.mean(y_test != knn.predict(X_test)))\n",
    "    \n",
    "plt.figure()\n",
    "plt.plot(components_arr, train_err, 'b-o', label = 'train')\n",
    "plt.plot(components_arr, test_err, 'r-o', label = 'test')\n",
    "plt.xlim([1, 25])\n",
    "plt.title('PCA')\n",
    "plt.xlabel('components')\n",
    "plt.ylabel('error')\n",
    "plt.legend()\n",
    "plt.show()"
   ]
  },
  {
   "cell_type": "code",
   "execution_count": 90,
   "metadata": {},
   "outputs": [
    {
     "data": {
      "text/plain": [
       "0.0967741935483871"
      ]
     },
     "execution_count": 90,
     "metadata": {},
     "output_type": "execute_result"
    }
   ],
   "source": [
    "np.min(test_err)"
   ]
  },
  {
   "cell_type": "code",
   "execution_count": 91,
   "metadata": {},
   "outputs": [
    {
     "data": {
      "text/plain": [
       "2"
      ]
     },
     "execution_count": 91,
     "metadata": {},
     "output_type": "execute_result"
    }
   ],
   "source": [
    "np.argmin(test_err)"
   ]
  },
  {
   "cell_type": "code",
   "execution_count": 92,
   "metadata": {},
   "outputs": [
    {
     "name": "stdout",
     "output_type": "stream",
     "text": [
      "Number of components:  1   Minimal error:  0.22580645161290322\n",
      "Number of components:  2   Minimal error:  0.14516129032258066\n",
      "Number of components:  3   Minimal error:  0.0967741935483871\n",
      "Number of components:  4   Minimal error:  0.12903225806451613\n",
      "Number of components:  5   Minimal error:  0.14516129032258066\n",
      "Number of components:  6   Minimal error:  0.14516129032258066\n",
      "Number of components:  7   Minimal error:  0.14516129032258066\n",
      "Number of components:  8   Minimal error:  0.12903225806451613\n",
      "Number of components:  9   Minimal error:  0.14516129032258066\n",
      "Number of components:  10   Minimal error:  0.14516129032258066\n",
      "Number of components:  11   Minimal error:  0.12903225806451613\n",
      "Number of components:  12   Minimal error:  0.16129032258064516\n",
      "Number of components:  13   Minimal error:  0.14516129032258066\n",
      "Number of components:  14   Minimal error:  0.12903225806451613\n",
      "Number of components:  15   Minimal error:  0.14516129032258066\n",
      "Number of components:  16   Minimal error:  0.14516129032258066\n",
      "Number of components:  17   Minimal error:  0.14516129032258066\n",
      "Number of components:  18   Minimal error:  0.14516129032258066\n",
      "Number of components:  19   Minimal error:  0.14516129032258066\n",
      "Number of components:  20   Minimal error:  0.14516129032258066\n",
      "Number of components:  21   Minimal error:  0.14516129032258066\n",
      "Number of components:  22   Minimal error:  0.14516129032258066\n",
      "Number of components:  23   Minimal error:  0.14516129032258066\n",
      "Number of components:  24   Minimal error:  0.14516129032258066\n"
     ]
    }
   ],
   "source": [
    "for i in range(24):\n",
    "    print(\"Number of components: \" , i + 1, \"  Minimal error: \" , test_err[i])"
   ]
  },
  {
   "cell_type": "markdown",
   "metadata": {},
   "source": [
    "Результаты применения РСА:\n",
    "\n",
    "Минимальная ошибка: 0.0967741935483871\n",
    "Наилучшее значение количества используемых компонент: 3\n",
    "\n",
    "На имеющейся выборке использование РСА не снизило ошибку."
   ]
  },
  {
   "cell_type": "markdown",
   "metadata": {},
   "source": [
    "\n",
    "\n",
    "Нейронные сети\n",
    "\n",
    "\n",
    "\n",
    "Разбиваем данные на обучающую и тестовую выборки"
   ]
  },
  {
   "cell_type": "code",
   "execution_count": 93,
   "metadata": {},
   "outputs": [],
   "source": [
    "from sklearn.model_selection import train_test_split\n",
    "\n",
    "X_train, X_test, y_train, y_test = train_test_split(X, y, test_size = 0.33, random_state = 7)\n",
    "N_test, _ = X_test.shape"
   ]
  },
  {
   "cell_type": "markdown",
   "metadata": {},
   "source": [
    "Обучаем классификатор"
   ]
  },
  {
   "cell_type": "code",
   "execution_count": 94,
   "metadata": {},
   "outputs": [],
   "source": [
    "from sklearn.neural_network import MLPClassifier"
   ]
  },
  {
   "cell_type": "code",
   "execution_count": 95,
   "metadata": {},
   "outputs": [
    {
     "data": {
      "text/plain": [
       "MLPClassifier(activation='logistic', alpha=0.0001, batch_size='auto',\n",
       "              beta_1=0.9, beta_2=0.999, early_stopping=False, epsilon=1e-08,\n",
       "              hidden_layer_sizes=(100,), learning_rate='constant',\n",
       "              learning_rate_init=0.001, max_iter=200, momentum=0.9,\n",
       "              n_iter_no_change=10, nesterovs_momentum=True, power_t=0.5,\n",
       "              random_state=42, shuffle=True, solver='lbfgs', tol=0.0001,\n",
       "              validation_fraction=0.1, verbose=False, warm_start=False)"
      ]
     },
     "execution_count": 95,
     "metadata": {},
     "output_type": "execute_result"
    }
   ],
   "source": [
    "mlp_model = MLPClassifier(hidden_layer_sizes = (100,), solver = 'lbfgs', activation = 'logistic', random_state = 42)\n",
    "mlp_model.fit(X_train, y_train)"
   ]
  },
  {
   "cell_type": "code",
   "execution_count": 96,
   "metadata": {},
   "outputs": [],
   "source": [
    "y_train_pred = mlp_model.predict(X_train)\n",
    "y_test_pred = mlp_model.predict(X_test)"
   ]
  },
  {
   "cell_type": "markdown",
   "metadata": {},
   "source": [
    "Ошибки на обучающей и тестовой выборках"
   ]
  },
  {
   "cell_type": "code",
   "execution_count": 97,
   "metadata": {},
   "outputs": [
    {
     "name": "stdout",
     "output_type": "stream",
     "text": [
      "0.0 0.07352941176470588\n"
     ]
    }
   ],
   "source": [
    "print(np.mean(y_train != y_train_pred), np.mean(y_test != y_test_pred))"
   ]
  },
  {
   "cell_type": "markdown",
   "metadata": {},
   "source": [
    "Попробуем использовать двухслойную полносвязную сеть:\n"
   ]
  },
  {
   "cell_type": "code",
   "execution_count": 98,
   "metadata": {},
   "outputs": [
    {
     "data": {
      "text/plain": [
       "MLPClassifier(activation='logistic', alpha=0.0001, batch_size='auto',\n",
       "              beta_1=0.9, beta_2=0.999, early_stopping=False, epsilon=1e-08,\n",
       "              hidden_layer_sizes=(60, 10), learning_rate='constant',\n",
       "              learning_rate_init=0.001, max_iter=200, momentum=0.9,\n",
       "              n_iter_no_change=10, nesterovs_momentum=True, power_t=0.5,\n",
       "              random_state=42, shuffle=True, solver='lbfgs', tol=0.0001,\n",
       "              validation_fraction=0.1, verbose=False, warm_start=False)"
      ]
     },
     "execution_count": 98,
     "metadata": {},
     "output_type": "execute_result"
    }
   ],
   "source": [
    "mlp_model = MLPClassifier(hidden_layer_sizes = (60, 10), solver = 'lbfgs', activation = 'logistic', random_state = 42)\n",
    "mlp_model.fit(X_train, y_train)"
   ]
  },
  {
   "cell_type": "code",
   "execution_count": 99,
   "metadata": {},
   "outputs": [],
   "source": [
    "y_train_pred = mlp_model.predict(X_train)\n",
    "y_test_pred = mlp_model.predict(X_test)"
   ]
  },
  {
   "cell_type": "code",
   "execution_count": 100,
   "metadata": {},
   "outputs": [
    {
     "name": "stdout",
     "output_type": "stream",
     "text": [
      "0.0 0.04411764705882353\n"
     ]
    }
   ],
   "source": [
    "print(np.mean(y_train != y_train_pred), np.mean(y_test != y_test_pred))"
   ]
  },
  {
   "cell_type": "markdown",
   "metadata": {},
   "source": [
    "При использовании двухслойной сети качество на тестовой выборке улучшилось(ошибка снизилась)."
   ]
  },
  {
   "cell_type": "markdown",
   "metadata": {},
   "source": [
    "\n",
    "Подбор гиперпараметров\n",
    "\n",
    "\n",
    "Подберем оптимальное значение параметра регуляризации alpha:"
   ]
  },
  {
   "cell_type": "code",
   "execution_count": 101,
   "metadata": {},
   "outputs": [],
   "source": [
    "alpha_arr = np.logspace(-3, 2, 21)\n",
    "test_err = []\n",
    "train_err = []\n",
    "for alpha in alpha_arr:\n",
    "    mlp_model = MLPClassifier(alpha = alpha, hidden_layer_sizes = (100,), \n",
    "                              solver = 'lbfgs', activation = 'logistic', random_state = 42)\n",
    "    mlp_model.fit(X_train, y_train)\n",
    "\n",
    "    y_train_pred = mlp_model.predict(X_train)\n",
    "    y_test_pred = mlp_model.predict(X_test)\n",
    "    train_err.append(np.mean(y_train != y_train_pred))\n",
    "    test_err.append(np.mean(y_test != y_test_pred))"
   ]
  },
  {
   "cell_type": "code",
   "execution_count": 102,
   "metadata": {},
   "outputs": [
    {
     "data": {
      "image/png": "[encoded data removed]",
      "text/plain": [
       "<Figure size 432x288 with 1 Axes>"
      ]
     },
     "metadata": {
      "needs_background": "light"
     },
     "output_type": "display_data"
    }
   ],
   "source": [
    "\n",
    "plt.semilogx(alpha_arr, train_err, 'b-o', label = 'train')\n",
    "plt.semilogx(alpha_arr, test_err, 'r-o', label = 'test')\n",
    "plt.xlim([np.max(alpha_arr), np.min(alpha_arr)])\n",
    "plt.title('Error vs. alpha')\n",
    "plt.xlabel('alpha')\n",
    "plt.ylabel('error')\n",
    "plt.legend()\n",
    "pass"
   ]
  },
  {
   "cell_type": "markdown",
   "metadata": {},
   "source": [
    "Ошибка на тренеровочной выборке минимальна при alpha < 1. "
   ]
  },
  {
   "cell_type": "code",
   "execution_count": 103,
   "metadata": {},
   "outputs": [
    {
     "name": "stdout",
     "output_type": "stream",
     "text": [
      "0.0 0.029411764705882353\n"
     ]
    }
   ],
   "source": [
    "min_train_err = np.min(train_err)\n",
    "min_test_err = np.min(test_err)\n",
    "print(min_train_err, min_test_err)"
   ]
  },
  {
   "cell_type": "markdown",
   "metadata": {},
   "source": [
    "Также наблюдаем снижение минимальной ошибки на тестовой выборке.\n",
    "\n",
    "Оптимальные значения alpha:"
   ]
  },
  {
   "cell_type": "code",
   "execution_count": 104,
   "metadata": {},
   "outputs": [
    {
     "name": "stdout",
     "output_type": "stream",
     "text": [
      "[0.1        0.17782794 0.31622777 0.56234133]\n"
     ]
    }
   ],
   "source": [
    "alpha_opt = alpha_arr[test_err == min_test_err]\n",
    "print(alpha_opt)"
   ]
  },
  {
   "cell_type": "code",
   "execution_count": 105,
   "metadata": {},
   "outputs": [],
   "source": [
    "alpha_opt = alpha_opt[0]"
   ]
  },
  {
   "cell_type": "markdown",
   "metadata": {},
   "source": [
    "Подберем оптимальное количество нейронов:"
   ]
  },
  {
   "cell_type": "code",
   "execution_count": 106,
   "metadata": {},
   "outputs": [],
   "source": [
    "neurons = (10, 100, 500, 1000)\n",
    "test_err = []\n",
    "train_err = []\n",
    "for neuron in neurons:\n",
    "    mlp_model = MLPClassifier(alpha = alpha_opt, hidden_layer_sizes = (neuron,1), \n",
    "                              solver = 'lbfgs', activation = 'logistic', random_state = 42)\n",
    "    mlp_model.fit(X_train, y_train)\n",
    "\n",
    "    y_train_pred = mlp_model.predict(X_train)\n",
    "    y_test_pred = mlp_model.predict(X_test)\n",
    "    train_err.append(np.mean(y_train != y_train_pred))\n",
    "    test_err.append(np.mean(y_test != y_test_pred))"
   ]
  },
  {
   "cell_type": "code",
   "execution_count": 107,
   "metadata": {},
   "outputs": [
    {
     "data": {
      "image/png": "[encoded data removed]",
      "text/plain": [
       "<Figure size 432x288 with 1 Axes>"
      ]
     },
     "metadata": {
      "needs_background": "light"
     },
     "output_type": "display_data"
    }
   ],
   "source": [
    "plt.semilogx(neurons, train_err, 'b-o', label = 'train')\n",
    "plt.semilogx(neurons, test_err, 'r-o', label = 'test')\n",
    "plt.xlim([np.max(neurons), np.min(neurons)])\n",
    "plt.title('Error vs. neurons')\n",
    "plt.xlabel('neurons')\n",
    "plt.ylabel('error')\n",
    "plt.legend()\n",
    "pass"
   ]
  },
  {
   "cell_type": "markdown",
   "metadata": {},
   "source": [
    "Минимальная ошибка:"
   ]
  },
  {
   "cell_type": "code",
   "execution_count": 108,
   "metadata": {},
   "outputs": [
    {
     "name": "stdout",
     "output_type": "stream",
     "text": [
      "0.0 0.058823529411764705\n"
     ]
    }
   ],
   "source": [
    "min_train_err = np.min(train_err)\n",
    "min_test_err = np.min(test_err)\n",
    "print(min_train_err, min_test_err)"
   ]
  },
  {
   "cell_type": "markdown",
   "metadata": {},
   "source": [
    "Оптимальное количество нейронов: от 10 до 100. В данном случае достигается минимальная ошибка.При увеличении количества нейронов наступает переобучение.\n",
    "\n",
    "Вывод:"
   ]
  },
  {
   "cell_type": "markdown",
   "metadata": {},
   "source": [
    "\n",
    "\n",
    "Random forest\n",
    "\n"
   ]
  },
  {
   "cell_type": "code",
   "execution_count": 109,
   "metadata": {},
   "outputs": [
    {
     "data": {
      "text/plain": [
       "RandomForestClassifier(bootstrap=True, class_weight=None, criterion='gini',\n",
       "                       max_depth=None, max_features='auto', max_leaf_nodes=None,\n",
       "                       min_impurity_decrease=0.0, min_impurity_split=None,\n",
       "                       min_samples_leaf=1, min_samples_split=2,\n",
       "                       min_weight_fraction_leaf=0.0, n_estimators=100,\n",
       "                       n_jobs=None, oob_score=False, random_state=None,\n",
       "                       verbose=0, warm_start=False)"
      ]
     },
     "execution_count": 109,
     "metadata": {},
     "output_type": "execute_result"
    }
   ],
   "source": [
    "from sklearn import ensemble\n",
    "rf = ensemble.RandomForestClassifier(n_estimators = 100)\n",
    "rf.fit(X_train, y_train)"
   ]
  },
  {
   "cell_type": "code",
   "execution_count": 110,
   "metadata": {},
   "outputs": [
    {
     "name": "stdout",
     "output_type": "stream",
     "text": [
      "0.0 0.058823529411764705\n"
     ]
    }
   ],
   "source": [
    "err_train = np.mean(y_train != rf.predict(X_train))\n",
    "err_test  = np.mean(y_test  != rf.predict(X_test))\n",
    "\n",
    "print(err_train, err_test)"
   ]
  },
  {
   "cell_type": "code",
   "execution_count": 111,
   "metadata": {},
   "outputs": [
    {
     "name": "stderr",
     "output_type": "stream",
     "text": [
      "/Library/Frameworks/Python.framework/Versions/3.7/lib/python3.7/site-packages/sklearn/ensemble/forest.py:460: UserWarning: Some inputs do not have OOB scores. This probably means too few trees were used to compute any reliable oob estimates.\n",
      "  warn(\"Some inputs do not have OOB scores. \"\n",
      "/Library/Frameworks/Python.framework/Versions/3.7/lib/python3.7/site-packages/sklearn/ensemble/forest.py:465: RuntimeWarning: invalid value encountered in true_divide\n",
      "  predictions[k].sum(axis=1)[:, np.newaxis])\n"
     ]
    }
   ],
   "source": [
    "trees = (10, 20, 40, 60, 80, 100, 120, 140, 160)\n",
    "test_err = []\n",
    "train_err = []\n",
    "oob_err = []\n",
    "for tree in trees:\n",
    "    forest = ensemble.RandomForestClassifier(n_estimators = tree, oob_score=True)\n",
    "    forest.fit(X_train, y_train)\n",
    "\n",
    "    y_train_pred = forest.predict(X_train)\n",
    "    y_test_pred = forest.predict(X_test)\n",
    "    train_err.append(np.mean(y_train != y_train_pred))\n",
    "    test_err.append(np.mean(y_test != y_test_pred))\n",
    "    oob_err.append(1 - forest.oob_score_)"
   ]
  },
  {
   "cell_type": "code",
   "execution_count": 112,
   "metadata": {},
   "outputs": [
    {
     "data": {
      "image/png": "[encoded data removed]",
      "text/plain": [
       "<Figure size 432x288 with 1 Axes>"
      ]
     },
     "metadata": {
      "needs_background": "light"
     },
     "output_type": "display_data"
    }
   ],
   "source": [
    "plt.semilogx(trees, train_err, 'b-o', label = 'train')\n",
    "plt.semilogx(trees, test_err, 'r-o', label = 'test')\n",
    "plt.semilogx(trees, oob_err, 'g-o', label = 'oob')\n",
    "plt.xlim([np.min(trees), np.max(trees)])\n",
    "plt.title('Error vs. trees')\n",
    "plt.xlabel('trees')\n",
    "plt.ylabel('error')\n",
    "plt.legend()\n",
    "pass"
   ]
  },
  {
   "cell_type": "markdown",
   "metadata": {},
   "source": [
    "При любом количестве деревьев наблюдается переобучение.\n",
    "\n",
    "Оптимальное количество деревьев: 100."
   ]
  },
  {
   "cell_type": "markdown",
   "metadata": {},
   "source": [
    "Минимальная ошибка:"
   ]
  },
  {
   "cell_type": "code",
   "execution_count": 113,
   "metadata": {},
   "outputs": [
    {
     "name": "stdout",
     "output_type": "stream",
     "text": [
      "0.0 0.04411764705882353\n"
     ]
    }
   ],
   "source": [
    "min_train_err = np.min(train_err)\n",
    "min_test_err = np.min(test_err)\n",
    "print(min_train_err, min_test_err)"
   ]
  },
  {
   "cell_type": "markdown",
   "metadata": {},
   "source": [
    "\n",
    "\n",
    "Gradient Boosted Trees\n",
    "\n"
   ]
  },
  {
   "cell_type": "code",
   "execution_count": 114,
   "metadata": {},
   "outputs": [
    {
     "data": {
      "text/plain": [
       "GradientBoostingClassifier(criterion='friedman_mse', init=None,\n",
       "                           learning_rate=0.1, loss='deviance', max_depth=3,\n",
       "                           max_features=None, max_leaf_nodes=None,\n",
       "                           min_impurity_decrease=0.0, min_impurity_split=None,\n",
       "                           min_samples_leaf=1, min_samples_split=2,\n",
       "                           min_weight_fraction_leaf=0.0, n_estimators=100,\n",
       "                           n_iter_no_change=None, presort='auto',\n",
       "                           random_state=None, subsample=1.0, tol=0.0001,\n",
       "                           validation_fraction=0.1, verbose=0,\n",
       "                           warm_start=False)"
      ]
     },
     "execution_count": 114,
     "metadata": {},
     "output_type": "execute_result"
    }
   ],
   "source": [
    "gbt = ensemble.GradientBoostingClassifier(n_estimators = 100)\n",
    "gbt.fit(X_train, y_train)"
   ]
  },
  {
   "cell_type": "code",
   "execution_count": 115,
   "metadata": {},
   "outputs": [
    {
     "name": "stdout",
     "output_type": "stream",
     "text": [
      "0.0 0.058823529411764705\n"
     ]
    }
   ],
   "source": [
    "err_train = np.mean(y_train != rf.predict(X_train))\n",
    "err_test  = np.mean(y_test  != rf.predict(X_test))\n",
    "\n",
    "print(err_train, err_test)"
   ]
  },
  {
   "cell_type": "code",
   "execution_count": 116,
   "metadata": {},
   "outputs": [],
   "source": [
    "trees = (10, 20, 40, 60, 80, 100, 120, 140, 160)\n",
    "test_err = []\n",
    "train_err = []\n",
    "\n",
    "for tree in trees:\n",
    "    forest =ensemble.GradientBoostingClassifier(n_estimators = tree)\n",
    "    forest.fit(X_train, y_train)\n",
    "\n",
    "    y_train_pred = forest.predict(X_train)\n",
    "    y_test_pred = forest.predict(X_test)\n",
    "    train_err.append(np.mean(y_train != y_train_pred))\n",
    "    test_err.append(np.mean(y_test != y_test_pred))"
   ]
  },
  {
   "cell_type": "code",
   "execution_count": 117,
   "metadata": {},
   "outputs": [
    {
     "data": {
      "image/png": "[encoded data removed]",
      "text/plain": [
       "<Figure size 432x288 with 1 Axes>"
      ]
     },
     "metadata": {
      "needs_background": "light"
     },
     "output_type": "display_data"
    }
   ],
   "source": [
    "plt.plot(trees, train_err, 'b-o', label = 'train')\n",
    "plt.plot(trees, test_err, 'r-o', label = 'test')\n",
    "plt.xlim([np.min(trees), np.max(trees)])\n",
    "plt.title('Error vs. trees GBT')\n",
    "plt.xlabel('trees')\n",
    "plt.ylabel('error')\n",
    "plt.legend()\n",
    "pass"
   ]
  },
  {
   "cell_type": "markdown",
   "metadata": {},
   "source": [
    "Оптимальное количество деревьев: 60-100. При дальнейшем увеличении количества деревьев наблюдается переобучение.\n",
    "\n",
    "Минимальная ошибка:"
   ]
  },
  {
   "cell_type": "code",
   "execution_count": 118,
   "metadata": {},
   "outputs": [
    {
     "name": "stdout",
     "output_type": "stream",
     "text": [
      "0.0 0.029411764705882353\n"
     ]
    }
   ],
   "source": [
    "min_train_err = np.min(train_err)\n",
    "min_test_err = np.min(test_err)\n",
    "print(min_train_err, min_test_err)"
   ]
  },
  {
   "cell_type": "markdown",
   "metadata": {},
   "source": [
    "\n",
    "\n",
    "Выводы:\n",
    "    \n",
    "На имеющемся наборе данных минимальную ошибку получили с использованием нейронной сети с 2 слоями и Gradient Boosted Trees. \n"
   ]
  }
 ],
 "metadata": {
  "kernelspec": {
   "display_name": "Python 3",
   "language": "python",
   "name": "python3"
  },
  "language_info": {
   "codemirror_mode": {
    "name": "ipython",
    "version": 3
   },
   "file_extension": ".py",
   "mimetype": "text/x-python",
   "name": "python",
   "nbconvert_exporter": "python",
   "pygments_lexer": "ipython3",
   "version": "3.7.3"
  }
 },
 "nbformat": 4,
 "nbformat_minor": 2
}
